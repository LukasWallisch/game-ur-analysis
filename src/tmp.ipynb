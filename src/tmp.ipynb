{
 "cells": [
  {
   "cell_type": "code",
   "execution_count": 1,
   "metadata": {},
   "outputs": [],
   "source": [
    "import random\n",
    "import numpy as np\n",
    "import matplotlib.pyplot as plt\n",
    "import matplotlib as mpl\n",
    "from src.gameSimulation import GameUr,Strategies,Player,Dice,GameSettings,Multirun\n",
    "from multiprocessing import Process, Queue\n",
    "import multiprocessing as mp\n",
    "\n",
    "\n",
    "\n"
   ]
  },
  {
   "cell_type": "code",
   "execution_count": 2,
   "metadata": {},
   "outputs": [],
   "source": [
    "s = Strategies.RandomStrategy()\n",
    "p0 = Player.Player(0, 7, s)\n",
    "p1 = Player.Player(1, 7, s)\n",
    "d = Dice.MultiD2Dice(4)\n",
    "gs = GameSettings.GameSettings([p0, p1], d, 4, 8, 2, [8], [4, 8, 13])\n"
   ]
  },
  {
   "cell_type": "code",
   "execution_count": 3,
   "metadata": {},
   "outputs": [
    {
     "name": "stdout",
     "output_type": "stream",
     "text": [
      "10\n",
      "11\n",
      "110\n",
      "start pool\n",
      "finish pool\n"
     ]
    }
   ],
   "source": [
    "gl,w = Multirun.multirun(100,gs)\n",
    "    "
   ]
  },
  {
   "cell_type": "code",
   "execution_count": 4,
   "metadata": {},
   "outputs": [
    {
     "data": {
      "text/plain": [
       "47.54545454545455"
      ]
     },
     "execution_count": 4,
     "metadata": {},
     "output_type": "execute_result"
    }
   ],
   "source": [
    "gl_stacked = [(i,gl.count(i)) for i in range(np.min(gl),np.max(gl)+1)]\n",
    "\n",
    "gl_stacked\n",
    "np.average(gl)\n",
    "# np.min(gl)\n",
    "# np.max(gl)\n"
   ]
  },
  {
   "cell_type": "code",
   "execution_count": 6,
   "metadata": {},
   "outputs": [
    {
     "data": {
      "text/plain": [
       "<BarContainer object of 41 artists>"
      ]
     },
     "execution_count": 6,
     "metadata": {},
     "output_type": "execute_result"
    },
    {
     "data": {
      "image/png": "[encoded data removed]",
      "text/plain": [
       "<Figure size 432x288 with 1 Axes>"
      ]
     },
     "metadata": {
      "needs_background": "light"
     },
     "output_type": "display_data"
    }
   ],
   "source": [
    "plt.bar([x for x, _ in gl_stacked], [\n",
    "        y for _, y in gl_stacked], color=(0.1, 0.2, 0.5, 0.3))\n"
   ]
  },
  {
   "cell_type": "code",
   "execution_count": null,
   "metadata": {},
   "outputs": [
    {
     "name": "stdout",
     "output_type": "stream",
     "text": [
      "max:23\n",
      "min:6\n"
     ]
    },
    {
     "data": {
      "text/plain": [
       "11.00066"
      ]
     },
     "execution_count": 5,
     "metadata": {},
     "output_type": "execute_result"
    }
   ],
   "source": [
    "step_counts.sort()\n",
    "print(\"max:\" + str(step_counts[-1]))\n",
    "print(\"min:\" + str(step_counts[0]))\n",
    "numpy.mean(step_counts)"
   ]
  },
  {
   "cell_type": "code",
   "execution_count": null,
   "metadata": {},
   "outputs": [
    {
     "name": "stdout",
     "output_type": "stream",
     "text": [
      "┠┨ 1\n",
      "┠╂┬┬┬┬┬┬┬┬┬┬┬┬┬╂┨ 0\n",
      "┃\n",
      "┠┨ 0\n",
      "┠╂┬┬┬┬┬┬┬┬┬┬┬┬┬╂┨ 0\n",
      "┃\n",
      "┠┨ 1\n",
      "┠╂┬┬┬┬┬┬┬┬┬┬┬┬┬╂┨ 1\n",
      " ┃\n",
      " ┠─┨ 2\n",
      "┠╂┬┬┬┬┬┬┬┬┬┬┬┬┬╂┨ 3\n",
      "   ┃\n",
      "   ┠─┨ 2\n",
      "┠╂┬┬┬┬┬┬┬┬┬┬┬┬┬╂┨ 5\n",
      "     ┃\n",
      "     ┠┨ 1\n",
      "┠╂┬┬┬┬┬┬┬┬┬┬┬┬┬╂┨ 6\n",
      "      ┃\n",
      "      ┠──┨ 3\n",
      "┠╂┬┬┬┬┬┬┬┬┬┬┬┬┬╂┨ 9\n",
      "         ┃\n",
      "         ┠─┨ 2\n",
      "┠╂┬┬┬┬┬┬┬┬┬┬┬┬┬╂┨ 11\n",
      "           ┃\n",
      "           ┠─┨ 2\n",
      "┠╂┬┬┬┬┬┬┬┬┬┬┬┬┬╂┨ 13\n",
      "             ┃\n",
      "             ┠┨ 1\n",
      "┠╂┬┬┬┬┬┬┬┬┬┬┬┬┬╂┨ 14\n",
      "              ┃\n",
      "              ┠┨ 1\n",
      "┠╂┬┬┬┬┬┬┬┬┬┬┬┬┬╂┨ 15\n",
      "               ┃\n"
     ]
    }
   ],
   "source": [
    "game_length = 14\n",
    "\n",
    "current_pos = -1\n",
    "\n",
    "step_count = 0\n",
    "\n",
    "\n",
    "\n",
    "while current_pos <= game_length:\n",
    "       step_count += 1\n",
    "       for i in range(current_pos):\n",
    "              print(\" \", end='')\n",
    "       print(\"┠\", end='')\n",
    "       move_dist = random.choice([0,0,1,1])+random.choice([0,0,1,1])+random.choice([0,0,1,1])\n",
    "       for i in range(move_dist-1):\n",
    "              print(\"─\", end='')\n",
    "       print(\"┨ \"+ str(move_dist) )\n",
    "\n",
    "       current_pos+= move_dist\n",
    "\n",
    "       print(\"┠╂\", end='')\n",
    "       for i in range(game_length-1):\n",
    "              print(\"┬\", end='')\n",
    "       print(\"╂┨ \"+str(current_pos))\n",
    "       for i in range(current_pos):\n",
    "              print(\" \", end='')\n",
    "       print(\"┃\")\n",
    "\n",
    " \n"
   ]
  }
 ],
 "metadata": {
  "interpreter": {
   "hash": "7bed8204c7a812459d5ee112ed12be574a8c9e75eabda9dd8fb37380f16d19b9"
  },
  "kernelspec": {
   "display_name": "Python 3.8.10 64-bit (windows store)",
   "name": "python3"
  },
  "language_info": {
   "codemirror_mode": {
    "name": "ipython",
    "version": 3
   },
   "file_extension": ".py",
   "mimetype": "text/x-python",
   "name": "python",
   "nbconvert_exporter": "python",
   "pygments_lexer": "ipython3",
   "version": "3.10.0"
  },
  "orig_nbformat": 4
 },
 "nbformat": 4,
 "nbformat_minor": 2
}
