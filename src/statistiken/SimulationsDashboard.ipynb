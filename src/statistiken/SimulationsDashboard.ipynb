{
 "cells": [
  {
   "cell_type": "markdown",
   "metadata": {},
   "source": [
    "# Simulations Dashboard\n",
    "\n",
    "Die Zeitangaben geben an wie lange eine Simulation ungefähr mit einem AMD Ryzen 5 2600 dauern. Von den 12 verfügbaren Kernen werden dazu nur 10 verwendet um den Rechner nicht ganz lahmzulegen."
   ]
  },
  {
   "cell_type": "markdown",
   "metadata": {},
   "source": [
    "import benötigter Bibliotheken"
   ]
  },
  {
   "cell_type": "code",
   "execution_count": 27,
   "metadata": {},
   "outputs": [],
   "source": [
    "from datetime import datetime\n",
    "\n",
    "from gameSimulation.GameUr import Player, Dice, GameSettings\n",
    "import gameSimulation.Strategies as S\n",
    "import gameSimulation.Multirun as Multirun\n",
    "from os import path\n"
   ]
  },
  {
   "cell_type": "markdown",
   "metadata": {},
   "source": [
    "## Konfiguration"
   ]
  },
  {
   "cell_type": "markdown",
   "metadata": {},
   "source": [
    "Pfad unter dem die Datenbanken gespeichert werden sollen."
   ]
  },
  {
   "cell_type": "code",
   "execution_count": 28,
   "metadata": {},
   "outputs": [],
   "source": [
    "db_dir = \"D:/Uni/BA/data/\""
   ]
  },
  {
   "cell_type": "markdown",
   "metadata": {},
   "source": [
    "Wähle aus welche Datensätze neu berechnet werden sollen"
   ]
  },
  {
   "cell_type": "code",
   "execution_count": 29,
   "metadata": {},
   "outputs": [],
   "source": [
    "baseline_1P = False # Baseline mit einem Spieler\n",
    "baseline_1P_noDR = False  # Baseline mit einem Spieler ohne Doppelwürfelfelder\n",
    "baseline_2P = False # Baseline mit zwei Spielern\n"
   ]
  },
  {
   "cell_type": "markdown",
   "metadata": {},
   "source": [
    "## Code"
   ]
  },
  {
   "cell_type": "markdown",
   "metadata": {},
   "source": [
    "### Baseline, Standardeinstellungen auf einem Standardspielbrett ein Spieler\n",
    "mit 1,2,3,4,5,6 und 7 Spielsteinen\n",
    "\n",
    "Anzahl der Wiederholungen so angepasst, dass für jede Spielsteinanzahl genau 10.500.000 Spielsteine über das Spielbrett bewegt werden müssen.\n",
    "\n",
    "Generierter Datensatz ~ 14,8 GB\n",
    "Laufzeit ca 1:50h"
   ]
  },
  {
   "cell_type": "code",
   "execution_count": 30,
   "metadata": {},
   "outputs": [
    {
     "name": "stdout",
     "output_type": "stream",
     "text": [
      "Berechnung übersprungen\n"
     ]
    }
   ],
   "source": [
    "db_filename = \"gameHistories_baseline_one\"\n",
    "equalSettings = [Dice.MultiD2Dice(4), 4, 8, 2, [8], [4, 8, 14]]\n",
    "gs = [*[GameSettings([Player(1, 1, S.RandomStrategy())], *equalSettings)]*(420//1),\n",
    "      *[GameSettings([Player(1, 2, S.RandomStrategy())], *equalSettings)]*(420//2),\n",
    "      *[GameSettings([Player(1, 3, S.RandomStrategy())], *equalSettings)]*(420//3),\n",
    "      *[GameSettings([Player(1, 4, S.RandomStrategy())], *equalSettings)]*(420//4),\n",
    "      *[GameSettings([Player(1, 5, S.RandomStrategy())], *equalSettings)]*(420//5),\n",
    "      *[GameSettings([Player(1, 6, S.RandomStrategy())], *equalSettings)]*(420//6),\n",
    "      *[GameSettings([Player(1, 7, S.RandomStrategy())], *equalSettings)]*(420//7)]\n",
    "runs = 25000\n",
    "\n",
    "if baseline_1P:\n",
    "      delta0 = datetime.now()\n",
    "      cf = Multirun.multirunDBNoStoneHistory(runs, 10, 10, gs, db_dir, db_filename)\n",
    "      delta1 = datetime.now()\n",
    "\n",
    "      print(\"{} Abschnitte nach insgesamt {} beendet\".format(cf, delta1-delta0))\n",
    "else:\n",
    "      print(\"Berechnung übersprungen\")\n"
   ]
  },
  {
   "cell_type": "markdown",
   "metadata": {},
   "source": [
    "### keine Doppelwürfelfelder auf einem Standardspielbrett ein Spieler\n",
    "mit 1,2,3,4,5,6 und 7 Spielsteinen\n",
    "\n",
    "Anzahl der Wiederholungen so angepasst, dass für jede Spielsteinanzahl genau 10.500.000 Spielsteine über das Spielbrett bewegt werden müssen.\n",
    "\n",
    "Generierter Datensatz ~15,6GB\n",
    "Laufzeit ~ 1:45 h\n"
   ]
  },
  {
   "cell_type": "code",
   "execution_count": 31,
   "metadata": {},
   "outputs": [
    {
     "name": "stdout",
     "output_type": "stream",
     "text": [
      "Berechnung übersprungen\n"
     ]
    }
   ],
   "source": [
    "db_filename = \"gameHistories_noDR\"\n",
    "equalSettings = [Dice.MultiD2Dice(4), 4, 8, 2, [8], []]\n",
    "gs = [*[GameSettings([Player(1, 1, S.RandomStrategy())], *equalSettings)]*(420//1),\n",
    "      *[GameSettings([Player(1, 2, S.RandomStrategy())],\n",
    "                     *equalSettings)]*(420//2),\n",
    "      *[GameSettings([Player(1, 3, S.RandomStrategy())],\n",
    "                     *equalSettings)]*(420//3),\n",
    "      *[GameSettings([Player(1, 4, S.RandomStrategy())],\n",
    "                     *equalSettings)]*(420//4),\n",
    "      *[GameSettings([Player(1, 5, S.RandomStrategy())],\n",
    "                     *equalSettings)]*(420//5),\n",
    "      *[GameSettings([Player(1, 6, S.RandomStrategy())],\n",
    "                     *equalSettings)]*(420//6),\n",
    "      *[GameSettings([Player(1, 7, S.RandomStrategy())], *equalSettings)]*(420//7)]\n",
    "runs = 25000\n",
    "if baseline_1P_noDR:\n",
    "      delta0 = datetime.now()\n",
    "      cf = Multirun.multirunDBNoStoneHistory(runs, 10, 10, gs, db_dir, db_filename)\n",
    "      delta1 = datetime.now()\n",
    "\n",
    "      print(\"{} Abschnitte nach insgesamt {} beendet\".format(cf, delta1-delta0))\n",
    "else:\n",
    "    print(\"Berechnung übersprungen\")\n"
   ]
  },
  {
   "cell_type": "markdown",
   "metadata": {},
   "source": [
    "### Baseline, Standardeinstellungen auf einem Standardspielbrett zwei Spieler\n",
    "7 Spielsteinen\n",
    "\n",
    "Generierter Datensatz ~ 3,9 GB\n",
    "Laufzeit ca. 30min"
   ]
  },
  {
   "cell_type": "code",
   "execution_count": 32,
   "metadata": {},
   "outputs": [
    {
     "name": "stdout",
     "output_type": "stream",
     "text": [
      "Berechnung übersprungen\n"
     ]
    }
   ],
   "source": [
    "db_filename = \"gameHistories_baseline_two_players\"\n",
    "equalSettings = [Dice.MultiD2Dice(4), 4, 8, 2, [8], [4, 8, 14]]\n",
    "gs = [*[GameSettings([Player(0, 7, S.RandomStrategy()),\n",
    "                     Player(1, 7, S.RandomStrategy())], *equalSettings)]*10]\n",
    "if baseline_2P:\n",
    "    runs = 100000\n",
    "    delta0 = datetime.now()\n",
    "    cf = Multirun.multirunDBNoStoneHistory(runs, 10, 10, gs, db_dir, db_filename)\n",
    "    delta1 = datetime.now()\n",
    "\n",
    "    print(\"{} Abschnitte nach insgesamt {} beendet\".format(cf, delta1-delta0))\n",
    "else:\n",
    "    print(\"Berechnung übersprungen\")\n"
   ]
  },
  {
   "cell_type": "code",
   "execution_count": 33,
   "metadata": {},
   "outputs": [],
   "source": [
    "\n",
    "\n",
    "equalSettings = [Dice.MultiD2Dice(4), 4, 8, 2, [8], [4, 8, 14]]\n",
    "p0 = Player(0, 7, S.RandomStrategy())\n",
    "\n",
    "gs = [\n",
    "    # *[GameSettings([Player(0, 7, S.MoveFirstStrategy()), Player(1, 7, S.MoveFirstStrategy())], Dice.MultiD2Dice(4), *equalSettings)]*10,\n",
    "    # *[GameSettings([Player(0, 7, S.MoveFirstStrategy()), Player(1, 7, S.MoveFirstStrategy())], Dice.MultiD2Dice(3), *equalSettings)]*10,\n",
    "    # *[GameSettings([Player(0, 7, S.MoveFirstStrategy()), Player(1, 7, S.MoveFirstStrategy())], Dice.MultiD2DiceNo0(3), *equalSettings)]*10,\n",
    "    # *[GameSettings([Player(0, 7, S.MoveFirstStrategy()), Player(1, 7, S.MoveFirstStrategy())], Dice.D4(), *equalSettings)]*10,\n",
    "\n",
    "    # *[GameSettings([p0, Player( 1, 7, S.RandomStrategy())],  *equalSettings)]*5,\n",
    "    # *[GameSettings([p0, Player( 1, 7, S.MoveFirstStrategy())], *equalSettings)]*5,\n",
    "    # *[GameSettings([p0, Player( 1, 7, S.MoveLastStrategy())], *equalSettings)]*5,\n",
    "    # *[GameSettings([p0, Player( 1, 7, S.ScoreStrategy())], *equalSettings)]*5,\n",
    "    # *[GameSettings([p0, Player( 1, 7, S.ScoreDoubleRollStrategy())], *equalSettings)]*5,\n",
    "    # *[GameSettings([p0, Player( 1, 7, S.ScoreThrowOpponentStrategy())], *equalSettings)]*5,\n",
    "\n",
    "    # *[GameSettings([Player( 1, 1, S.RandomStrategy())],  *equalSettings)]*(420//1),\n",
    "    # *[GameSettings([Player( 1, 2, S.RandomStrategy())],  *equalSettings)]*(420//2),\n",
    "    # *[GameSettings([Player( 1, 3, S.RandomStrategy())],  *equalSettings)]*(420//3),\n",
    "    # *[GameSettings([Player( 1, 4, S.RandomStrategy())],  *equalSettings)]*(420//4),\n",
    "    # *[GameSettings([Player( 1, 5, S.RandomStrategy())],  *equalSettings)]*(420//5),\n",
    "    # *[GameSettings([Player( 1, 6, S.RandomStrategy())],  *equalSettings)]*(420//6),\n",
    "    # *[GameSettings([Player( 1, 7, S.RandomStrategy())],  *equalSettings)]*(420//7),\n",
    "    *[GameSettings([Player(1, 7, S.RandomStrategy())],\n",
    "                    *equalSettings)]*58,\n",
    "\n",
    "    # *[GameSettings([Player( 1, 2, S.RandomStrategy())],  *equalSettings)]*5,\n",
    "    # *[GameSettings([Player( 1, 2, S.MoveFirstStrategy())], *equalSettings)]*5,\n",
    "    # *[GameSettings([Player( 1, 2, S.MoveLastStrategy())], *equalSettings)]*5,\n",
    "    # *[GameSettings([Player( 1, 2, S.ScoreStrategy())], *equalSettings)]*5,\n",
    "    # *[GameSettings([Player( 1, 2, S.ScoreDoubleRollStrategy())], *equalSettings)]*5,\n",
    "    # *[GameSettings([Player( 1, 2, S.ScoreThrowOpponentStrategy())], *equalSettings)]*5,\n",
    "]\n",
    "gs_fastest = [\n",
    "    # *[GameSettings([Player(0, 7, S.MoveFirstStrategy()), Player(1, 7, S.MoveFirstStrategy())], Dice.MultiD2Dice(4), *equalSettings)]*10,\n",
    "    # *[GameSettings([Player(0, 7, S.MoveFirstStrategy()), Player(1, 7, S.MoveFirstStrategy())], Dice.MultiD2Dice(3), *equalSettings)]*10,\n",
    "    # *[GameSettings([Player(0, 7, S.MoveFirstStrategy()), Player(1, 7, S.MoveFirstStrategy())], Dice.MultiD2DiceNo0(3), *equalSettings)]*10,\n",
    "    # *[GameSettings([Player(0, 7, S.MoveFirstStrategy()), Player(1, 7, S.MoveFirstStrategy())], Dice.D4(), *equalSettings)]*10,\n",
    "\n",
    "    # (GameSettings([p0, Player( 1, 7, S.RandomStrategy())],  *equalSettings),50),\n",
    "    # (GameSettings([p0, Player( 1, 7, S.MoveFirstStrategy())], *equalSettings),50),\n",
    "    # (GameSettings([p0, Player( 1, 7, S.MoveLastStrategy())], *equalSettings),50),\n",
    "    # (GameSettings([p0, Player( 1, 7, S.ScoreStrategy())], *equalSettings),50),\n",
    "    # (GameSettings([p0, Player( 1, 7, S.ScoreDoubleRollStrategy())], *equalSettings),50),\n",
    "    # (GameSettings([p0, Player( 1, 7, S.ScoreThrowOpponentStrategy())], *equalSettings),50),\n",
    "    # (GameSettings([p0], *equalSettings),20),\n",
    "]\n",
    "runs = 100000\n",
    "\n",
    "# delta0 = datetime.now()\n",
    "# # cf = Multirun.multirunDB(runs,10, 100, gs,\"test\")\n",
    "# cf = Multirun.multirunDBNoStoneHistory(runs, 10, 10, gs, \"7StonesFastest\")\n",
    "\n",
    "# #5000 [03:37<00:00, 229.91games/s]\n",
    "# #5000 [03:46<00:00, 220.46games/s]\n",
    "\n",
    "# delta1 = datetime.now()\n",
    "# print(\"{} chunks finished after {}\".format(cf, delta1-delta0))\n",
    "\n",
    "# h=[]\n",
    "# h.append(Multirun.runGame(gs[0],True))\n",
    "\n",
    "# id = 4\n",
    "# for i, h_sub in enumerate(h):\n",
    "#     delta0 = datetime.now()\n",
    "#     print(\"start save at \", delta0)\n",
    "#     with open(\"G:/Uni/BA/data/history_data_{:02d}_{:02d}.json\".format(id,i), \"w\") as f:\n",
    "#         json.dump(h[i], f, cls=jsonDE.PlayerEncoder, indent=4)\n",
    "#     delta1 = datetime.now()\n",
    "#     print(\"finished save after\", delta1-delta0)\n",
    "\n",
    "# for h_sub in h:\n",
    "#     store_data_2_db(h_sub)\n",
    "\n",
    "# tmp = []\n",
    "# for i in range(3):\n",
    "#     delta0 = datetime.now()\n",
    "#     with open(\"data/history_data_{:02d}.json\".format(i), \"r\") as f:\n",
    "#         tmp.append(json.load(f))\n",
    "#     delta1 = datetime.now()\n",
    "#     print(\"finished load after\", delta1-delta0)\n"
   ]
  }
 ],
 "metadata": {
  "interpreter": {
   "hash": "a757b233949dafe224bceb608d4709151f7d57937779228570c63acf7991e206"
  },
  "kernelspec": {
   "display_name": "Python 3.10.0 64-bit ('pyGameUr': venv)",
   "language": "python",
   "name": "python3"
  },
  "language_info": {
   "codemirror_mode": {
    "name": "ipython",
    "version": 3
   },
   "file_extension": ".py",
   "mimetype": "text/x-python",
   "name": "python",
   "nbconvert_exporter": "python",
   "pygments_lexer": "ipython3",
   "version": "3.10.0"
  },
  "orig_nbformat": 4
 },
 "nbformat": 4,
 "nbformat_minor": 2
}
