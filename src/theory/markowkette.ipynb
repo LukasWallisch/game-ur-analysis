{
 "cells": [
  {
   "cell_type": "markdown",
   "metadata": {},
   "source": [
    "# Berechnung der Durchschnittlichen Spiellänge mittels Markov-Ketten\n",
    "### Import der benötigten Bibliotheken"
   ]
  },
  {
   "cell_type": "code",
   "execution_count": 2,
   "metadata": {},
   "outputs": [],
   "source": [
    "import sympy as sy\n"
   ]
  },
  {
   "cell_type": "markdown",
   "metadata": {},
   "source": [
    "### Definition der Wahrscheinlichkeiten der einzelnen Würfelwerte\n"
   ]
  },
  {
   "cell_type": "code",
   "execution_count": 3,
   "metadata": {},
   "outputs": [],
   "source": [
    "P_4D2 = {\n",
    "    \"dice\": sy.nsimplify(1/16, tolerance=0.001, rational=True),\n",
    "    \"diceI\": sy.nsimplify(1/4, tolerance=0.001, rational=True),\n",
    "    \"diceII\": sy.nsimplify(3/8, tolerance=0.001, rational=True),\n",
    "    \"diceIII\": sy.nsimplify(1/4, tolerance=0.001, rational=True),\n",
    "    \"diceIV\": sy.nsimplify(1/16, tolerance=0.001, rational=True)\n",
    "}"
   ]
  },
  {
   "cell_type": "markdown",
   "metadata": {},
   "source": [
    "### Definition der Übergangsmatrizen"
   ]
  },
  {
   "cell_type": "code",
   "execution_count": 4,
   "metadata": {},
   "outputs": [],
   "source": [
    "def RundenMatrix(dice, diceI, diceII, diceIII, diceIV):\n",
    "    return sy.Matrix(\n",
    "        [[dice,  diceI,  diceII,  diceIII,  diceIV * dice,  diceIV * diceI,  diceIV * diceII,  diceIV * diceIII,  diceIV * diceIV * dice,  diceIV * diceIV * diceI,  diceIV * diceIV * diceII,  diceIV * diceIV * diceIII,  diceIV * diceIV * diceIV, 0, 0, 0],\n",
    "         [0,  dice,  diceI,  diceII,  diceIII * dice,  diceIV + diceIII * diceI,  diceIII * diceII,  diceIII * diceIII,  diceIII * diceIV *\n",
    "            dice,  diceIII * diceIV * diceI,  diceIII * diceIV * diceII,  diceIII * diceIV * diceIII,  diceIII * diceIV * diceIV, 0, 0, 0],\n",
    "            [0, 0,  dice,  diceI,  diceII * dice,  diceIII + diceII * diceI,  diceIV + diceII * diceII,  diceII * diceIII,  diceII * diceIV *\n",
    "                dice,  diceII * diceIV * diceI,  diceII * diceIV * diceII,  diceII * diceIV * diceIII,  diceII * diceIV * diceIV, 0, 0, 0],\n",
    "            [0, 0, 0,  dice,  diceI * dice,  diceII + diceI * diceI,  diceIII + diceI * diceII,  diceIV + diceI * diceIII,  diceI *\n",
    "                diceIV * dice,  diceI * diceIV * diceI,  diceI * diceIV * diceII,  diceI * diceIV * diceIII,  diceI * diceIV * diceIV, 0, 0, 0],\n",
    "            [0, 0, 0, 0,  dice,  diceI,  diceII,  diceIII,  diceIV * dice,  diceIV *\n",
    "                diceI,  diceIV * diceII,  diceIV * diceIII,  diceIV * diceIV, 0, 0, 0],\n",
    "            [0, 0, 0, 0, 0,  dice,  diceI,  diceII,  diceIII * dice,  diceIV + diceIII *\n",
    "                diceI,  diceIII * diceII,  diceIII * diceIII,  diceIII * diceIV, 0, 0, 0],\n",
    "            [0, 0, 0, 0, 0, 0,  dice,  diceI,  diceII * dice,  diceIII + diceII * diceI,\n",
    "                diceIV + diceII * diceII,  diceII * diceIII,  diceII * diceIV, 0, 0, 0],\n",
    "            [0, 0, 0, 0, 0, 0, 0,  dice,  diceI * dice,  diceII + diceI * diceI, diceIII +\n",
    "                diceI * diceII,  diceIV + diceI * diceIII,  diceI * diceIV, 0, 0, 0],\n",
    "            [0, 0, 0, 0, 0, 0, 0, 0,  dice,  diceI,\n",
    "                diceII,  diceIII,  diceIV, 0, 0, 0],\n",
    "            [0, 0, 0, 0, 0, 0, 0, 0, 0,  dice,  diceI,\n",
    "                diceII,  diceIII,  diceIV, 0, 0],\n",
    "            [0, 0, 0, 0, 0, 0, 0, 0, 0, 0,  dice,  diceI,  diceII,  diceIII,\n",
    "                diceIV*(dice + diceII + diceIII + diceIV),  diceIV * diceI],\n",
    "            [0, 0, 0, 0, 0, 0, 0, 0, 0, 0, 0,  dice,  diceI,  diceII,  diceIII *\n",
    "                (dice + diceII + diceIII + diceIV),  diceIV + (diceIII * diceI)],\n",
    "            [0, 0, 0, 0, 0, 0, 0, 0, 0, 0, 0, 0,  dice + diceIV,  diceI,  diceII *\n",
    "                (dice + diceII + diceIII + diceIV),  diceIII + (diceII * diceI)],\n",
    "            [0, 0, 0, 0, 0, 0, 0, 0, 0, 0, 0, 0, 0,  dice + diceIII + diceIV,\n",
    "                diceI*(dice + diceII + diceIII + diceIV),  diceII + (diceI * diceI)],\n",
    "            [0, 0, 0, 0, 0, 0, 0, 0, 0, 0, 0, 0, 0, 0,\n",
    "                dice + diceII + diceIII + diceIV,  diceI],\n",
    "            [0, 0, 0, 0, 0, 0, 0, 0, 0, 0, 0, 0, 0, 0, 0, 1]])\n",
    "\n",
    "\n",
    "def SchritteMatrix(dice, diceI, diceII, diceIII, diceIV):\n",
    "    return sy.Matrix([\n",
    "        [dice, diceI,  diceII,  diceIII,  diceIV, 0, 0, 0, 0, 0, 0, 0, 0, 0, 0, 0],\n",
    "        [0, dice, diceI,  diceII,  diceIII,  diceIV, 0, 0, 0, 0, 0, 0, 0, 0, 0, 0],\n",
    "        [0, 0, dice, diceI,  diceII,  diceIII,  diceIV, 0, 0, 0, 0, 0, 0, 0, 0, 0],\n",
    "        [0, 0, 0, dice,  diceI,  diceII,  diceIII, diceIV, 0, 0, 0, 0, 0, 0, 0, 0],\n",
    "        [0, 0, 0, 0, dice,  diceI,  diceII,  diceIII, diceIV, 0, 0, 0, 0, 0, 0, 0],\n",
    "        [0, 0, 0, 0, 0, dice,  diceI,  diceII,  diceIII, diceIV, 0, 0, 0, 0, 0, 0],\n",
    "        [0, 0, 0, 0, 0, 0, dice,  diceI,  diceII,  diceIII, diceIV, 0, 0, 0, 0, 0],\n",
    "        [0, 0, 0, 0, 0, 0, 0, dice,  diceI,  diceII,  diceIII, diceIV, 0, 0, 0, 0],\n",
    "        [0, 0, 0, 0, 0, 0, 0, 0, dice,  diceI,  diceII,  diceIII, diceIV, 0, 0, 0],\n",
    "        [0, 0, 0, 0, 0, 0, 0, 0, 0, dice,  diceI,  diceII, diceIII,  diceIV, 0, 0],\n",
    "        [0, 0, 0, 0, 0, 0, 0, 0, 0, 0, dice,  diceI,  diceII, diceIII,  diceIV, 0],\n",
    "        [0, 0, 0, 0, 0, 0, 0, 0, 0, 0, 0, dice,  diceI,  diceII, diceIII, diceIV],\n",
    "        [0, 0, 0, 0, 0, 0, 0, 0, 0, 0, 0, 0, dice +\n",
    "            diceIV,  diceI,  diceII,  diceIII],\n",
    "        [0, 0, 0, 0, 0, 0, 0, 0, 0, 0, 0, 0, 0,\n",
    "            dice+diceIII + diceIV,  diceI,  diceII],\n",
    "        [0, 0, 0, 0, 0, 0, 0, 0, 0, 0, 0, 0, 0, 0,\n",
    "            dice+diceII + diceIII + diceIV,  diceI],\n",
    "        [0, 0, 0, 0, 0, 0, 0, 0, 0, 0, 0, 0, 0, 0, 0,\n",
    "            dice + diceI + diceII + diceIII + diceIV],\n",
    "    ])\n",
    "\n",
    "\n",
    "def SchritteMatrixNichtGenauInsZiel(dice, diceI, diceII, diceIII, diceIV):\n",
    "    return sy.Matrix([\n",
    "        [dice, diceI,  diceII,  diceIII,  diceIV, 0, 0, 0, 0, 0, 0, 0, 0, 0, 0, 0],\n",
    "        [0, dice, diceI,  diceII,  diceIII,  diceIV, 0, 0, 0, 0, 0, 0, 0, 0, 0, 0],\n",
    "        [0, 0, dice, diceI,  diceII,  diceIII,  diceIV, 0, 0, 0, 0, 0, 0, 0, 0, 0],\n",
    "        [0, 0, 0, dice,  diceI,  diceII,  diceIII, diceIV, 0, 0, 0, 0, 0, 0, 0, 0],\n",
    "        [0, 0, 0, 0, dice,  diceI,  diceII,  diceIII, diceIV, 0, 0, 0, 0, 0, 0, 0],\n",
    "        [0, 0, 0, 0, 0, dice,  diceI,  diceII,  diceIII, diceIV, 0, 0, 0, 0, 0, 0],\n",
    "        [0, 0, 0, 0, 0, 0, dice,  diceI,  diceII,  diceIII, diceIV, 0, 0, 0, 0, 0],\n",
    "        [0, 0, 0, 0, 0, 0, 0, dice,  diceI,  diceII,  diceIII, diceIV, 0, 0, 0, 0],\n",
    "        [0, 0, 0, 0, 0, 0, 0, 0, dice,  diceI,  diceII,  diceIII, diceIV, 0, 0, 0],\n",
    "        [0, 0, 0, 0, 0, 0, 0, 0, 0, dice,  diceI,  diceII, diceIII,  diceIV, 0, 0],\n",
    "        [0, 0, 0, 0, 0, 0, 0, 0, 0, 0, dice,  diceI,  diceII, diceIII,  diceIV, 0],\n",
    "        [0, 0, 0, 0, 0, 0, 0, 0, 0, 0, 0, dice,  diceI,  diceII, diceIII ,diceIV],\n",
    "        [0, 0, 0, 0, 0, 0, 0, 0, 0, 0, 0, 0, dice, diceI,  diceII, diceIII +diceIV],\n",
    "        [0, 0, 0, 0, 0, 0, 0, 0, 0, 0, 0, 0, 0, dice,  diceI,  diceII+ diceIII+ diceIV],\n",
    "        [0, 0, 0, 0, 0, 0, 0, 0, 0, 0, 0, 0, 0, 0, dice,  diceI+  diceII+ diceIII+ diceIV],\n",
    "        [0, 0, 0, 0, 0, 0, 0, 0, 0, 0, 0, 0, 0, 0, 0, dice+  diceI+  diceII+ diceIII+ diceIV], ])\n"
   ]
  },
  {
   "cell_type": "markdown",
   "metadata": {},
   "source": [
    "### Festlegen welcher Würfel verwendet wird"
   ]
  },
  {
   "cell_type": "code",
   "execution_count": 5,
   "metadata": {},
   "outputs": [],
   "source": [
    "M_S = SchritteMatrix(**P_4D2)\n",
    "M_R = RundenMatrix(**P_4D2)\n",
    "# M_S = SchritteMatrix(**D4)\n",
    "# M_R = RundenMatrix(**D4)\n"
   ]
  },
  {
   "cell_type": "markdown",
   "metadata": {},
   "source": [
    "### Überprüfung ob die Zeilensumme jeweils 1 ist"
   ]
  },
  {
   "cell_type": "code",
   "execution_count": 6,
   "metadata": {},
   "outputs": [
    {
     "name": "stdout",
     "output_type": "stream",
     "text": [
      "Zeilensumme Schritte Matrix: [1, 1, 1, 1, 1, 1, 1, 1, 1, 1, 1, 1, 1, 1, 1, 1]\n",
      "Zeilensumme Runden Matrix: [1, 1, 1, 1, 1, 1, 1, 1, 1, 1, 1, 1, 1, 1, 1, 1]\n"
     ]
    }
   ],
   "source": [
    "print(\"Zeilensumme Schritte Matrix:\", [sum(M_S.row(i)) for i in range(16)])\n",
    "print(\"Zeilensumme Runden Matrix:\",[sum(M_R.row(i)) for i in range(16)])"
   ]
  },
  {
   "cell_type": "markdown",
   "metadata": {},
   "source": [
    "### Löschen der letzten Spalte\n",
    "Achtung findet inplace statt!"
   ]
  },
  {
   "cell_type": "code",
   "execution_count": 7,
   "metadata": {},
   "outputs": [],
   "source": [
    "M_S.col_del(-1)\n",
    "M_R.col_del(-1)\n"
   ]
  },
  {
   "cell_type": "markdown",
   "metadata": {},
   "source": [
    "### Löschen der letzten Zeile\n",
    "\n",
    "Achtung findet inplace statt!"
   ]
  },
  {
   "cell_type": "code",
   "execution_count": 8,
   "metadata": {},
   "outputs": [],
   "source": [
    "M_S.row_del(-1)\n",
    "M_R.row_del(-1)\n"
   ]
  },
  {
   "cell_type": "markdown",
   "metadata": {},
   "source": [
    "### Definition der 15x15 - Einheitsmatrix"
   ]
  },
  {
   "cell_type": "code",
   "execution_count": 9,
   "metadata": {},
   "outputs": [],
   "source": [
    "I = sy.eye(15)"
   ]
  },
  {
   "cell_type": "markdown",
   "metadata": {},
   "source": [
    "### Berechnung der Ergebnismatrizen"
   ]
  },
  {
   "cell_type": "code",
   "execution_count": 10,
   "metadata": {},
   "outputs": [],
   "source": [
    "E_S = (I-M_S)**-1\n",
    "E_R = (I-M_R)**-1"
   ]
  },
  {
   "cell_type": "markdown",
   "metadata": {},
   "source": [
    "### Berechnng der jeweils ersten Zeilensumme"
   ]
  },
  {
   "cell_type": "code",
   "execution_count": 11,
   "metadata": {},
   "outputs": [],
   "source": [
    "v=sy.Matrix([[1]+[0]*14])\n",
    "ZS_S= sum(v*E_S)\n",
    "ZS_R= sum(v*E_R)\n"
   ]
  },
  {
   "cell_type": "markdown",
   "metadata": {},
   "source": [
    "## Ausgabe der Ergebnisse"
   ]
  },
  {
   "cell_type": "code",
   "execution_count": 12,
   "metadata": {},
   "outputs": [
    {
     "name": "stdout",
     "output_type": "stream",
     "text": [
      "Schritte gerundet: 9.867846767445288\n",
      "Schritte exakt für Latex: \\frac{1280316980941868}{129746337890625}\n",
      "Schritte exakt:\n"
     ]
    },
    {
     "data": {
      "text/latex": [
       "$\\displaystyle \\frac{1280316980941868}{129746337890625}$"
      ],
      "text/plain": [
       "1280316980941868/129746337890625"
      ]
     },
     "execution_count": 12,
     "metadata": {},
     "output_type": "execute_result"
    }
   ],
   "source": [
    "print(\"Schritte gerundet:\", float(ZS_S))\n",
    "print(\"Schritte exakt für Latex:\", sy.latex(ZS_S))\n",
    "print(\"Schritte exakt:\")\n",
    "\n",
    "ZS_S\n",
    "\n",
    "\n"
   ]
  },
  {
   "cell_type": "code",
   "execution_count": 13,
   "metadata": {},
   "outputs": [
    {
     "name": "stdout",
     "output_type": "stream",
     "text": [
      "Runden gerundet: 8.391927856222578\n",
      "Runden exakt für Latex: \\frac{1088821907187203}{129746337890625}\n",
      "Runden exakt:\n"
     ]
    },
    {
     "data": {
      "text/latex": [
       "$\\displaystyle \\frac{1088821907187203}{129746337890625}$"
      ],
      "text/plain": [
       "1088821907187203/129746337890625"
      ]
     },
     "execution_count": 13,
     "metadata": {},
     "output_type": "execute_result"
    }
   ],
   "source": [
    "print(\"Runden gerundet:\", float(ZS_R))\n",
    "print(\"Runden exakt für Latex:\", sy.latex(ZS_R))\n",
    "print(\"Runden exakt:\")\n",
    "ZS_R"
   ]
  },
  {
   "cell_type": "code",
   "execution_count": 14,
   "metadata": {},
   "outputs": [
    {
     "name": "stdout",
     "output_type": "stream",
     "text": [
      "Schritte/Runden gerundet: 1.175873641493274\n",
      "Schritte/Runden exakt für Latex: \\frac{1280316980941868}{1088821907187203}\n",
      "Schritte/Runden exakt:\n"
     ]
    },
    {
     "data": {
      "text/latex": [
       "$\\displaystyle \\frac{1280316980941868}{1088821907187203}$"
      ],
      "text/plain": [
       "1280316980941868/1088821907187203"
      ]
     },
     "execution_count": 14,
     "metadata": {},
     "output_type": "execute_result"
    }
   ],
   "source": [
    "print(\"Schritte/Runden gerundet:\", float(ZS_S/ZS_R))\n",
    "print(\"Schritte/Runden exakt für Latex:\", sy.latex(ZS_S/ZS_R))\n",
    "print(\"Schritte/Runden exakt:\")\n",
    "ZS_S/ZS_R\n"
   ]
  },
  {
   "cell_type": "markdown",
   "metadata": {},
   "source": [
    "## Berechnung für die Markov-Kette wenn das Ziel nicht genau getroffen werden muss\n"
   ]
  },
  {
   "cell_type": "code",
   "execution_count": 15,
   "metadata": {},
   "outputs": [],
   "source": [
    "\n",
    "M_U = SchritteMatrixNichtGenauInsZiel(**P_4D2)\n"
   ]
  },
  {
   "cell_type": "code",
   "execution_count": 16,
   "metadata": {},
   "outputs": [
    {
     "name": "stdout",
     "output_type": "stream",
     "text": [
      "Zeilensumme Schritte Matrix: [1, 1, 1, 1, 1, 1, 1, 1, 1, 1, 1, 1, 1, 1, 1, 1]\n"
     ]
    }
   ],
   "source": [
    "print(\"Zeilensumme Schritte Matrix:\", [sum(M_U.row(i)) for i in range(16)])\n"
   ]
  },
  {
   "cell_type": "code",
   "execution_count": 17,
   "metadata": {},
   "outputs": [],
   "source": [
    "M_U.col_del(-1)\n",
    "M_U.row_del(-1)"
   ]
  },
  {
   "cell_type": "code",
   "execution_count": 18,
   "metadata": {},
   "outputs": [],
   "source": [
    "I = sy.eye(15)\n",
    "E_U = (I-M_U)**-1\n",
    "v=sy.Matrix([[1]+[0]*14])\n",
    "ZS_U= sum(v*E_U)"
   ]
  },
  {
   "cell_type": "code",
   "execution_count": 19,
   "metadata": {},
   "outputs": [
    {
     "name": "stdout",
     "output_type": "stream",
     "text": [
      "Schritte gerundet: 7.874997997960489\n",
      "Schritte exakt für Latex: \\frac{3448413510068397376}{437893890380859375}\n",
      "Schritte exakt:\n"
     ]
    },
    {
     "data": {
      "text/latex": [
       "$\\displaystyle \\frac{3448413510068397376}{437893890380859375}$"
      ],
      "text/plain": [
       "3448413510068397376/437893890380859375"
      ]
     },
     "execution_count": 19,
     "metadata": {},
     "output_type": "execute_result"
    }
   ],
   "source": [
    "print(\"Schritte gerundet:\", float(ZS_U))\n",
    "print(\"Schritte exakt für Latex:\", sy.latex(ZS_U))\n",
    "print(\"Schritte exakt:\")\n",
    "\n",
    "ZS_U\n"
   ]
  },
  {
   "cell_type": "markdown",
   "metadata": {},
   "source": [
    "# Vergleichswerte mit verschiedenen Würfeln"
   ]
  },
  {
   "cell_type": "code",
   "execution_count": 20,
   "metadata": {},
   "outputs": [],
   "source": [
    "def berechneRunden(würfel):\n",
    "    M_R = RundenMatrix(**würfel)\n",
    "    # print(\"Zeilensumme Runden Matrix:\", [sum(M_R.row(i)) for i in range(16)])\n",
    "    M_R.col_del(-1)\n",
    "    M_R.row_del(-1)\n",
    "    I = sy.eye(15)\n",
    "    E_R = (I-M_R)**-1\n",
    "    v = sy.Matrix([[1]+[0]*14])\n",
    "    ZS_R = sum(v*E_R)\n",
    "    return ZS_R\n"
   ]
  },
  {
   "cell_type": "code",
   "execution_count": 21,
   "metadata": {},
   "outputs": [],
   "source": [
    "def berechneSchritte(würfel):\n",
    "    M_S = SchritteMatrix(**würfel)\n",
    "    # print(\"Zeilensumme Schritte Matrix:\", [sum(M_S.row(i)) for i in range(16)])\n",
    "    M_S.col_del(-1)\n",
    "    M_S.row_del(-1)\n",
    "    I = sy.eye(15)\n",
    "    E_S = (I-M_S)**-1\n",
    "    v = sy.Matrix([[1]+[0]*14])\n",
    "    ZS_S = sum(v*E_S)\n",
    "    return ZS_S\n"
   ]
  },
  {
   "cell_type": "code",
   "execution_count": 22,
   "metadata": {},
   "outputs": [],
   "source": [
    "def ausgabe(name, schritte, runden):\n",
    "    # print(name)\n",
    "    # print(\"Runden:\", runden,\" = \", float(runden))\n",
    "    # print(\"Schritte:\", schritte,\" = \", float(schritte))\n",
    "    # print(name,\"&$\", sy.latex(schritte),\"$&$\", sy.latex(runden),\"$\\\\\\\\\")\n",
    "    # print(name,\"&$\", float(schritte),\"$&$\", float(runden),\"$\\\\\\\\\")\n",
    "    print(\"{}&${:.3f}$&${:.3f}$\\\\\\\\\".format(name, float(schritte), float(runden)))\n"
   ]
  },
  {
   "cell_type": "code",
   "execution_count": 23,
   "metadata": {},
   "outputs": [],
   "source": [
    "P_D4 = {\n",
    "    \"dice\": sy.nsimplify(0, tolerance=0.001, rational=True),\n",
    "    \"diceI\": sy.nsimplify(1/4, tolerance=0.001, rational=True),\n",
    "    \"diceII\": sy.nsimplify(1/4, tolerance=0.001, rational=True),\n",
    "    \"diceIII\": sy.nsimplify(1/4, tolerance=0.001, rational=True),\n",
    "    \"diceIV\": sy.nsimplify(1/4, tolerance=0.001, rational=True),\n",
    "}\n",
    "P_D2 = {\n",
    "    \"dice\": sy.nsimplify(1/2, tolerance=0.001, rational=True),\n",
    "    \"diceI\": sy.nsimplify(1/2, tolerance=0.001, rational=True),\n",
    "    \"diceII\": sy.nsimplify(0, tolerance=0.001, rational=True),\n",
    "    \"diceIII\": sy.nsimplify(0, tolerance=0.001, rational=True),\n",
    "    \"diceIV\": sy.nsimplify(0, tolerance=0.001, rational=True),\n",
    "}\n",
    "P_2D2 = {\n",
    "    \"dice\": sy.nsimplify(1/4, tolerance=0.001, rational=True),\n",
    "    \"diceI\": sy.nsimplify(2/4, tolerance=0.001, rational=True),\n",
    "    \"diceII\": sy.nsimplify(1/4, tolerance=0.001, rational=True),\n",
    "    \"diceIII\": sy.nsimplify(0, tolerance=0.001, rational=True),\n",
    "    \"diceIV\": sy.nsimplify(0, tolerance=0.001, rational=True),\n",
    "}\n",
    "P_3D2 = {\n",
    "    \"dice\": sy.nsimplify(1/8, tolerance=0.001, rational=True),\n",
    "    \"diceI\": sy.nsimplify(3/8, tolerance=0.001, rational=True),\n",
    "    \"diceII\": sy.nsimplify(3/8, tolerance=0.001, rational=True),\n",
    "    \"diceIII\": sy.nsimplify(1/8, tolerance=0.001, rational=True),\n",
    "    \"diceIV\": sy.nsimplify(0, tolerance=0.001, rational=True),\n",
    "}\n",
    "P_3D2_0TO4 = {\n",
    "    \"dice\": sy.nsimplify(0, tolerance=0.001, rational=True),\n",
    "    \"diceI\": sy.nsimplify(3/8, tolerance=0.001, rational=True),\n",
    "    \"diceII\": sy.nsimplify(3/8, tolerance=0.001, rational=True),\n",
    "    \"diceIII\": sy.nsimplify(1/8, tolerance=0.001, rational=True),\n",
    "    \"diceIV\": sy.nsimplify(1/8, tolerance=0.001, rational=True),\n",
    "}\n"
   ]
  },
  {
   "cell_type": "code",
   "execution_count": 24,
   "metadata": {},
   "outputs": [
    {
     "name": "stdout",
     "output_type": "stream",
     "text": [
      "D4&$8.798$&$7.349$\\\\\n",
      "D2&$30.000$&$27.000$\\\\\n",
      "2D2&$15.750$&$13.497$\\\\\n",
      "3D2&$11.444$&$9.660$\\\\\n",
      "3D2 0$\\to$4&$9.256$&$7.613$\\\\\n",
      "4D2&$9.868$&$8.392$\\\\\n"
     ]
    }
   ],
   "source": [
    "ausgabe(\"D4\",berechneSchritte(P_D4), berechneRunden(P_D4))\n",
    "ausgabe(\"D2\",berechneSchritte(P_D2), berechneRunden(P_D2))\n",
    "ausgabe(\"2D2\",berechneSchritte(P_2D2), berechneRunden(P_2D2))\n",
    "ausgabe(\"3D2\",berechneSchritte(P_3D2), berechneRunden(P_3D2))\n",
    "ausgabe(r\"3D2 0$\\to$4\", berechneSchritte(P_3D2_0TO4), berechneRunden(P_3D2_0TO4))\n",
    "ausgabe(\"4D2\",berechneSchritte(P_4D2), berechneRunden(P_4D2))\n"
   ]
  },
  {
   "cell_type": "code",
   "execution_count": 25,
   "metadata": {},
   "outputs": [
    {
     "data": {
      "text/plain": [
       "[30,\n",
       " 75331762/4782969,\n",
       " 1108840853928/96889010407,\n",
       " 1280316980941868/129746337890625,\n",
       " 417425672509/45097156608,\n",
       " 9225465/1048576]"
      ]
     },
     "execution_count": 25,
     "metadata": {},
     "output_type": "execute_result"
    }
   ],
   "source": [
    "[berechneSchritte(d) for d in [P_D2, P_2D2, P_3D2, P_4D2, P_3D2_0TO4, P_D4]]\n"
   ]
  },
  {
   "cell_type": "code",
   "execution_count": 26,
   "metadata": {},
   "outputs": [
    {
     "data": {
      "text/plain": [
       "[27,\n",
       " 88553/6561,\n",
       " 1871893342281/193778020814,\n",
       " 1088821907187203/129746337890625,\n",
       " 10986162935393/1443109011456,\n",
       " 61648355/8388608]"
      ]
     },
     "execution_count": 26,
     "metadata": {},
     "output_type": "execute_result"
    }
   ],
   "source": [
    "[berechneRunden(d) for d in [P_D2, P_2D2, P_3D2, P_4D2, P_3D2_0TO4, P_D4]]\n"
   ]
  }
 ],
 "metadata": {
  "interpreter": {
   "hash": "a757b233949dafe224bceb608d4709151f7d57937779228570c63acf7991e206"
  },
  "kernelspec": {
   "display_name": "Python 3.10.0 64-bit ('pyGameUr': venv)",
   "language": "python",
   "name": "python3"
  },
  "language_info": {
   "codemirror_mode": {
    "name": "ipython",
    "version": 3
   },
   "file_extension": ".py",
   "mimetype": "text/x-python",
   "name": "python",
   "nbconvert_exporter": "python",
   "pygments_lexer": "ipython3",
   "version": "3.10.0"
  },
  "orig_nbformat": 4
 },
 "nbformat": 4,
 "nbformat_minor": 2
}
