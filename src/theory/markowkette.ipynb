{
 "cells": [
  {
   "cell_type": "code",
   "execution_count": 12,
   "metadata": {},
   "outputs": [
    {
     "data": {
      "text/latex": [
       "$\\displaystyle \\left[\\begin{array}{cccccccccccccccc}\\frac{15}{16} & - \\frac{1}{4} & - \\frac{3}{8} & - \\frac{1}{4} & - \\frac{1}{256} & - \\frac{1}{64} & - \\frac{1}{64} & - \\frac{1}{64} & - \\frac{1}{4096} & - \\frac{1}{1024} & - \\frac{3}{2048} & - \\frac{1}{1024} & - \\frac{1}{4096} & 0 & 0 & 0\\\\0 & \\frac{15}{16} & - \\frac{1}{4} & - \\frac{3}{8} & - \\frac{1}{64} & - \\frac{1}{8} & - \\frac{3}{32} & - \\frac{1}{16} & - \\frac{1}{1024} & - \\frac{1}{256} & - \\frac{3}{512} & - \\frac{1}{256} & - \\frac{1}{1024} & 0 & 0 & 0\\\\0 & 0 & \\frac{15}{16} & - \\frac{1}{4} & - \\frac{3}{128} & - \\frac{11}{32} & - \\frac{13}{64} & - \\frac{3}{32} & - \\frac{3}{2048} & - \\frac{3}{512} & - \\frac{9}{1024} & - \\frac{3}{512} & - \\frac{3}{2048} & 0 & 0 & 0\\\\0 & 0 & 0 & \\frac{15}{16} & - \\frac{1}{64} & - \\frac{7}{16} & - \\frac{11}{32} & - \\frac{1}{8} & - \\frac{1}{1024} & - \\frac{1}{256} & - \\frac{3}{512} & - \\frac{1}{256} & - \\frac{1}{1024} & 0 & 0 & 0\\\\0 & 0 & 0 & 0 & \\frac{15}{16} & - \\frac{1}{4} & - \\frac{3}{8} & - \\frac{1}{4} & - \\frac{1}{256} & - \\frac{1}{64} & - \\frac{3}{128} & - \\frac{1}{64} & - \\frac{1}{256} & 0 & 0 & 0\\\\0 & 0 & 0 & 0 & 0 & \\frac{15}{16} & - \\frac{1}{4} & - \\frac{3}{8} & - \\frac{1}{64} & - \\frac{1}{8} & - \\frac{3}{32} & - \\frac{1}{16} & - \\frac{1}{64} & 0 & 0 & 0\\\\0 & 0 & 0 & 0 & 0 & 0 & \\frac{15}{16} & - \\frac{1}{4} & - \\frac{3}{128} & - \\frac{11}{32} & - \\frac{13}{64} & - \\frac{3}{32} & - \\frac{3}{128} & 0 & 0 & 0\\\\0 & 0 & 0 & 0 & 0 & 0 & 0 & \\frac{15}{16} & - \\frac{1}{64} & - \\frac{7}{16} & - \\frac{11}{32} & - \\frac{1}{8} & - \\frac{1}{64} & 0 & 0 & 0\\\\0 & 0 & 0 & 0 & 0 & 0 & 0 & 0 & \\frac{15}{16} & - \\frac{1}{4} & - \\frac{3}{8} & - \\frac{1}{4} & - \\frac{1}{16} & 0 & 0 & 0\\\\0 & 0 & 0 & 0 & 0 & 0 & 0 & 0 & 0 & \\frac{15}{16} & - \\frac{1}{4} & - \\frac{3}{8} & - \\frac{1}{4} & - \\frac{1}{16} & 0 & 0\\\\0 & 0 & 0 & 0 & 0 & 0 & 0 & 0 & 0 & 0 & \\frac{15}{16} & - \\frac{1}{4} & - \\frac{3}{8} & - \\frac{1}{4} & - \\frac{3}{64} & - \\frac{1}{64}\\\\0 & 0 & 0 & 0 & 0 & 0 & 0 & 0 & 0 & 0 & 0 & \\frac{15}{16} & - \\frac{1}{4} & - \\frac{3}{8} & - \\frac{3}{16} & - \\frac{1}{8}\\\\0 & 0 & 0 & 0 & 0 & 0 & 0 & 0 & 0 & 0 & 0 & 0 & \\frac{7}{8} & - \\frac{1}{4} & - \\frac{9}{32} & - \\frac{11}{32}\\\\0 & 0 & 0 & 0 & 0 & 0 & 0 & 0 & 0 & 0 & 0 & 0 & 0 & \\frac{5}{8} & - \\frac{3}{16} & - \\frac{7}{16}\\\\0 & 0 & 0 & 0 & 0 & 0 & 0 & 0 & 0 & 0 & 0 & 0 & 0 & 0 & \\frac{1}{4} & - \\frac{1}{4}\\\\0 & 0 & 0 & 0 & 0 & 0 & 0 & 0 & 0 & 0 & 0 & 0 & 0 & 0 & 0 & 0\\end{array}\\right]$"
      ],
      "text/plain": [
       "Matrix([\n",
       "[15/16,  -1/4,  -3/8,  -1/4, -1/256,  -1/64,  -1/64, -1/64, -1/4096, -1/1024, -3/2048, -1/1024, -1/4096,     0,     0,      0],\n",
       "[    0, 15/16,  -1/4,  -3/8,  -1/64,   -1/8,  -3/32, -1/16, -1/1024,  -1/256,  -3/512,  -1/256, -1/1024,     0,     0,      0],\n",
       "[    0,     0, 15/16,  -1/4, -3/128, -11/32, -13/64, -3/32, -3/2048,  -3/512, -9/1024,  -3/512, -3/2048,     0,     0,      0],\n",
       "[    0,     0,     0, 15/16,  -1/64,  -7/16, -11/32,  -1/8, -1/1024,  -1/256,  -3/512,  -1/256, -1/1024,     0,     0,      0],\n",
       "[    0,     0,     0,     0,  15/16,   -1/4,   -3/8,  -1/4,  -1/256,   -1/64,  -3/128,   -1/64,  -1/256,     0,     0,      0],\n",
       "[    0,     0,     0,     0,      0,  15/16,   -1/4,  -3/8,   -1/64,    -1/8,   -3/32,   -1/16,   -1/64,     0,     0,      0],\n",
       "[    0,     0,     0,     0,      0,      0,  15/16,  -1/4,  -3/128,  -11/32,  -13/64,   -3/32,  -3/128,     0,     0,      0],\n",
       "[    0,     0,     0,     0,      0,      0,      0, 15/16,   -1/64,   -7/16,  -11/32,    -1/8,   -1/64,     0,     0,      0],\n",
       "[    0,     0,     0,     0,      0,      0,      0,     0,   15/16,    -1/4,    -3/8,    -1/4,   -1/16,     0,     0,      0],\n",
       "[    0,     0,     0,     0,      0,      0,      0,     0,       0,   15/16,    -1/4,    -3/8,    -1/4, -1/16,     0,      0],\n",
       "[    0,     0,     0,     0,      0,      0,      0,     0,       0,       0,   15/16,    -1/4,    -3/8,  -1/4, -3/64,  -1/64],\n",
       "[    0,     0,     0,     0,      0,      0,      0,     0,       0,       0,       0,   15/16,    -1/4,  -3/8, -3/16,   -1/8],\n",
       "[    0,     0,     0,     0,      0,      0,      0,     0,       0,       0,       0,       0,     7/8,  -1/4, -9/32, -11/32],\n",
       "[    0,     0,     0,     0,      0,      0,      0,     0,       0,       0,       0,       0,       0,   5/8, -3/16,  -7/16],\n",
       "[    0,     0,     0,     0,      0,      0,      0,     0,       0,       0,       0,       0,       0,     0,   1/4,   -1/4],\n",
       "[    0,     0,     0,     0,      0,      0,      0,     0,       0,       0,       0,       0,       0,     0,     0,      0]])"
      ]
     },
     "execution_count": 12,
     "metadata": {},
     "output_type": "execute_result"
    }
   ],
   "source": [
    "import sympy as sy\n",
    "dice = sy.nsimplify(1/16, tolerance=0.001, rational=True)\n",
    "diceI = sy.nsimplify(1/4, tolerance=0.001, rational=True)\n",
    "diceII = sy.nsimplify(3/8, tolerance=0.001, rational=True)\n",
    "diceIII = sy.nsimplify(1/4, tolerance=0.001, rational=True)\n",
    "diceIV = sy.nsimplify(1/16, tolerance=0.001, rational=True)\n",
    "\n",
    "MR= sy.Matrix(\n",
    "    [[dice,  diceI,  diceII,  diceIII,  diceIV * dice,  diceIV * diceI,  diceIV * diceIII,  diceIV * diceIII,  diceIV * diceIV * dice,  diceIV * diceIV * diceI,  diceIV * diceIV * diceII,  diceIV * diceIV * diceIII,  diceIV * diceIV * diceIV, 0, 0, 0],\n",
    "     [0,  dice,  diceI,  diceII,  diceIII * dice,  diceIV + diceIII * diceI,  diceIII * diceII,  diceIII * diceIII,  diceIII * diceIV *\n",
    "         dice,  diceIII * diceIV * diceI,  diceIII * diceIV * diceII,  diceIII * diceIV * diceIII,  diceIII * diceIV * diceIV, 0, 0, 0],\n",
    "        [0, 0,  dice,  diceI,  diceII * dice,  diceIII + diceII * diceI,  diceIV + diceII * diceII,  diceII * diceIII,  diceII * diceIV *\n",
    "            dice,  diceII * diceIV * diceI,  diceII * diceIV * diceII,  diceII * diceIV * diceIII,  diceII * diceIV * diceIV, 0, 0, 0],\n",
    "        [0, 0, 0,  dice,  diceI * dice,  diceII + diceI * diceI,  diceIII + diceI * diceII,  diceIV + diceI * diceIII,  diceI *\n",
    "            diceIV * dice,  diceI * diceIV * diceI,  diceI * diceIV * diceII,  diceI * diceIV * diceIII,  diceI * diceIV * diceIV, 0, 0, 0],\n",
    "        [0, 0, 0, 0,  dice,  diceI,  diceII,  diceIII,  diceIV * dice,  diceIV *\n",
    "            diceI,  diceIV * diceII,  diceIV * diceIII,  diceIV * diceIV, 0, 0, 0],\n",
    "        [0, 0, 0, 0, 0,  dice,  diceI,  diceII,  diceIII * dice,  diceIV + diceIII *\n",
    "            diceI,  diceIII * diceII,  diceIII * diceIII,  diceIII * diceIV, 0, 0, 0],\n",
    "        [0, 0, 0, 0, 0, 0,  dice,  diceI,  diceII * dice,  diceIII + diceII * diceI,\n",
    "            diceIV + diceII * diceII,  diceII * diceIII,  diceII * diceIV, 0, 0, 0],\n",
    "        [0, 0, 0, 0, 0, 0, 0,  dice,  diceI * dice,  diceII + diceI * diceI,\n",
    "            diceIII + diceI * diceII,  diceIV + diceI * diceIII,  diceI * diceIV, 0, 0, 0],\n",
    "        [0, 0, 0, 0, 0, 0, 0, 0,  dice,  diceI,\n",
    "            diceII,  diceIII,  diceIV, 0, 0, 0],\n",
    "        [0, 0, 0, 0, 0, 0, 0, 0, 0,  dice,  diceI,\n",
    "            diceII,  diceIII,  diceIV, 0, 0],\n",
    "        [0, 0, 0, 0, 0, 0, 0, 0, 0, 0,  dice,  diceI,  diceII,  diceIII,\n",
    "            diceIV*(dice + diceII + diceIII + diceIV),  diceIV * diceI],\n",
    "        [0, 0, 0, 0, 0, 0, 0, 0, 0, 0, 0,  dice,  diceI,  diceII,  diceIII *\n",
    "            (dice + diceII + diceIII + diceIV),  diceIV + (diceIII * diceI)],\n",
    "        [0, 0, 0, 0, 0, 0, 0, 0, 0, 0, 0, 0,  dice + diceIV,  diceI,  diceII *\n",
    "            (dice + diceII + diceIII + diceIV),  diceIII + (diceII * diceI)],\n",
    "        [0, 0, 0, 0, 0, 0, 0, 0, 0, 0, 0, 0, 0,  dice + diceIII + diceIV,\n",
    "            diceI*(dice + diceII + diceIII + diceIV),  diceII + (diceI * diceI)],\n",
    "        [0, 0, 0, 0, 0, 0, 0, 0, 0, 0, 0, 0, 0, 0,\n",
    "            dice + diceII + diceIII + diceIV,  diceI],\n",
    "        [0, 0, 0, 0, 0, 0, 0, 0, 0, 0, 0, 0, 0, 0, 0, 1]])\n",
    "\n",
    "# print(sy.nsimplify(MR, tolerance=0.001, rational=True))\n",
    "sy.eye(15)-MR"
   ]
  }
 ],
 "metadata": {
  "interpreter": {
   "hash": "a757b233949dafe224bceb608d4709151f7d57937779228570c63acf7991e206"
  },
  "kernelspec": {
   "display_name": "Python 3.10.0 64-bit ('pyGameUr': venv)",
   "language": "python",
   "name": "python3"
  },
  "language_info": {
   "codemirror_mode": {
    "name": "ipython",
    "version": 3
   },
   "file_extension": ".py",
   "mimetype": "text/x-python",
   "name": "python",
   "nbconvert_exporter": "python",
   "pygments_lexer": "ipython3",
   "version": "3.10.0"
  },
  "orig_nbformat": 4
 },
 "nbformat": 4,
 "nbformat_minor": 2
}
