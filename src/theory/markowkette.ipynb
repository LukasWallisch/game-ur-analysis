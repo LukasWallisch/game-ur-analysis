{
 "cells": [
  {
   "cell_type": "markdown",
   "metadata": {},
   "source": [
    "# Berechnung der Durchschnittlichen Spiellänge mittels Markov-Ketten\n",
    "### Import der benötigten Bibliotheken"
   ]
  },
  {
   "cell_type": "code",
   "execution_count": 1,
   "metadata": {},
   "outputs": [],
   "source": [
    "import sympy as sy\n"
   ]
  },
  {
   "cell_type": "markdown",
   "metadata": {},
   "source": [
    "### Definition der Wahrscheinlichkeiten der einzelnen Würfelwerte\n"
   ]
  },
  {
   "cell_type": "code",
   "execution_count": 45,
   "metadata": {},
   "outputs": [],
   "source": [
    "VierfachMünzwurf = {\n",
    "    \"dice\": sy.nsimplify(1/16, tolerance=0.001, rational=True),\n",
    "    \"diceI\": sy.nsimplify(1/4, tolerance=0.001, rational=True),\n",
    "    \"diceII\": sy.nsimplify(3/8, tolerance=0.001, rational=True),\n",
    "    \"diceIII\": sy.nsimplify(1/4, tolerance=0.001, rational=True),\n",
    "    \"diceIV\": sy.nsimplify(1/16, tolerance=0.001, rational=True)\n",
    "}\n",
    "D4 = {\n",
    "    \"dice\": sy.nsimplify(0, tolerance=0.001, rational=True),\n",
    "    \"diceI\": sy.nsimplify(1/4, tolerance=0.001, rational=True),\n",
    "    \"diceII\": sy.nsimplify(1/4, tolerance=0.001, rational=True),\n",
    "    \"diceIII\": sy.nsimplify(1/4, tolerance=0.001, rational=True),\n",
    "    \"diceIV\": sy.nsimplify(1/4, tolerance=0.001, rational=True),\n",
    "}"
   ]
  },
  {
   "cell_type": "markdown",
   "metadata": {},
   "source": [
    "### Definition der Übergangsmatrizen"
   ]
  },
  {
   "cell_type": "code",
   "execution_count": 46,
   "metadata": {},
   "outputs": [],
   "source": [
    "def RundenMatrix(dice,diceI,diceII,diceIII,diceIV):\n",
    "    return sy.Matrix(\n",
    "        [[dice,  diceI,  diceII,  diceIII,  diceIV * dice,  diceIV * diceI,  diceIV * diceII,  diceIV * diceIII,  diceIV * diceIV * dice,  diceIV * diceIV * diceI,  diceIV * diceIV * diceII,  diceIV * diceIV * diceIII,  diceIV * diceIV * diceIV, 0, 0, 0],\n",
    "        [0,  dice,  diceI,  diceII,  diceIII * dice,  diceIV + diceIII * diceI,  diceIII * diceII,  diceIII * diceIII,  diceIII * diceIV *\n",
    "            dice,  diceIII * diceIV * diceI,  diceIII * diceIV * diceII,  diceIII * diceIV * diceIII,  diceIII * diceIV * diceIV, 0, 0, 0],\n",
    "            [0, 0,  dice,  diceI,  diceII * dice,  diceIII + diceII * diceI,  diceIV + diceII * diceII,  diceII * diceIII,  diceII * diceIV *\n",
    "                dice,  diceII * diceIV * diceI,  diceII * diceIV * diceII,  diceII * diceIV * diceIII,  diceII * diceIV * diceIV, 0, 0, 0],\n",
    "            [0, 0, 0,  dice,  diceI * dice,  diceII + diceI * diceI,  diceIII + diceI * diceII,  diceIV + diceI * diceIII,  diceI *\n",
    "                diceIV * dice,  diceI * diceIV * diceI,  diceI * diceIV * diceII,  diceI * diceIV * diceIII,  diceI * diceIV * diceIV, 0, 0, 0],\n",
    "            [0, 0, 0, 0,  dice,  diceI,  diceII,  diceIII,  diceIV * dice,  diceIV *\n",
    "                diceI,  diceIV * diceII,  diceIV * diceIII,  diceIV * diceIV, 0, 0, 0],\n",
    "            [0, 0, 0, 0, 0,  dice,  diceI,  diceII,  diceIII * dice,  diceIV + diceIII *\n",
    "                diceI,  diceIII * diceII,  diceIII * diceIII,  diceIII * diceIV, 0, 0, 0],\n",
    "            [0, 0, 0, 0, 0, 0,  dice,  diceI,  diceII * dice,  diceIII + diceII * diceI,\n",
    "                diceIV + diceII * diceII,  diceII * diceIII,  diceII * diceIV, 0, 0, 0],\n",
    "            [0, 0, 0, 0, 0, 0, 0,  dice,  diceI * dice,  diceII + diceI * diceI, diceIII +\n",
    "                diceI * diceII,  diceIV + diceI * diceIII,  diceI * diceIV, 0, 0, 0],\n",
    "            [0, 0, 0, 0, 0, 0, 0, 0,  dice,  diceI,\n",
    "                diceII,  diceIII,  diceIV, 0, 0, 0],\n",
    "            [0, 0, 0, 0, 0, 0, 0, 0, 0,  dice,  diceI, diceII,  diceIII,  diceIV, 0, 0],\n",
    "            [0, 0, 0, 0, 0, 0, 0, 0, 0, 0,  dice,  diceI,  diceII,  diceIII,\n",
    "                diceIV*(dice + diceII + diceIII + diceIV),  diceIV * diceI],\n",
    "            [0, 0, 0, 0, 0, 0, 0, 0, 0, 0, 0,  dice,  diceI,  diceII,  diceIII *\n",
    "                (dice + diceII + diceIII + diceIV),  diceIV + (diceIII * diceI)],\n",
    "            [0, 0, 0, 0, 0, 0, 0, 0, 0, 0, 0, 0,  dice + diceIV,  diceI,  diceII *\n",
    "                (dice + diceII + diceIII + diceIV),  diceIII + (diceII * diceI)],\n",
    "            [0, 0, 0, 0, 0, 0, 0, 0, 0, 0, 0, 0, 0,  dice + diceIII + diceIV,\n",
    "                diceI*(dice + diceII + diceIII + diceIV),  diceII + (diceI * diceI)],\n",
    "            [0, 0, 0, 0, 0, 0, 0, 0, 0, 0, 0, 0, 0, 0,\n",
    "                dice + diceII + diceIII + diceIV,  diceI],\n",
    "            [0, 0, 0, 0, 0, 0, 0, 0, 0, 0, 0, 0, 0, 0, 0, 1]])\n",
    "\n",
    "\n",
    "def SchritteMatrix(dice, diceI, diceII, diceIII, diceIV):\n",
    "    return  sy.Matrix([\n",
    "    [dice, diceI,  diceII,  diceIII,  diceIV, 0, 0, 0, 0, 0, 0, 0, 0, 0, 0, 0],\n",
    "    [0, dice, diceI,  diceII,  diceIII,  diceIV, 0, 0, 0, 0, 0, 0, 0, 0, 0, 0],\n",
    "    [0, 0, dice, diceI,  diceII,  diceIII,  diceIV, 0, 0, 0, 0, 0, 0, 0, 0, 0],\n",
    "    [0, 0, 0, dice,  diceI,  diceII,  diceIII, diceIV, 0, 0, 0, 0, 0, 0, 0, 0],\n",
    "    [0, 0, 0, 0, dice,  diceI,  diceII,  diceIII, diceIV, 0, 0, 0, 0, 0, 0, 0],\n",
    "    [0, 0, 0, 0, 0, dice,  diceI,  diceII,  diceIII, diceIV, 0, 0, 0, 0, 0, 0],\n",
    "    [0, 0, 0, 0, 0, 0, dice,  diceI,  diceII,  diceIII, diceIV, 0, 0, 0, 0, 0],\n",
    "    [0, 0, 0, 0, 0, 0, 0, dice,  diceI,  diceII,  diceIII, diceIV, 0, 0, 0, 0],\n",
    "    [0, 0, 0, 0, 0, 0, 0, 0, dice,  diceI,  diceII,  diceIII, diceIV, 0, 0, 0],\n",
    "    [0, 0, 0, 0, 0, 0, 0, 0, 0, dice,  diceI,  diceII, diceIII,  diceIV, 0, 0],\n",
    "    [0, 0, 0, 0, 0, 0, 0, 0, 0, 0, dice,  diceI,  diceII, diceIII,  diceIV, 0],\n",
    "    [0, 0, 0, 0, 0, 0, 0, 0, 0, 0, 0, dice,  diceI,  diceII, diceIII, diceIV],\n",
    "    [0, 0, 0, 0, 0, 0, 0, 0, 0, 0, 0, 0, dice+diceIV,  diceI,  diceII,  diceIII],\n",
    "    [0, 0, 0, 0, 0, 0, 0, 0, 0, 0, 0, 0, 0, dice+diceIII + diceIV,  diceI,  diceII],\n",
    "    [0, 0, 0, 0, 0, 0, 0, 0, 0, 0, 0, 0, 0, 0, dice+diceII + diceIII + diceIV,  diceI],\n",
    "    [0, 0, 0, 0, 0, 0, 0, 0, 0, 0, 0, 0, 0, 0, 0, dice + diceI + diceII + diceIII + diceIV],\n",
    "])\n"
   ]
  },
  {
   "cell_type": "markdown",
   "metadata": {},
   "source": [
    "### Festlegen welcher Würfel verwendet wird"
   ]
  },
  {
   "cell_type": "code",
   "execution_count": 47,
   "metadata": {},
   "outputs": [],
   "source": [
    "M_S = SchritteMatrix(**VierfachMünzwurf)\n",
    "M_R = RundenMatrix(**VierfachMünzwurf)\n",
    "# M_S = SchritteMatrix(**D4)\n",
    "# M_R = RundenMatrix(**D4)\n"
   ]
  },
  {
   "cell_type": "markdown",
   "metadata": {},
   "source": [
    "### Überprüfung ob die Zeilensumme jeweils 1 ist"
   ]
  },
  {
   "cell_type": "code",
   "execution_count": 48,
   "metadata": {},
   "outputs": [
    {
     "name": "stdout",
     "output_type": "stream",
     "text": [
      "Zeilensumme Schritte Matrix: [1, 1, 1, 1, 1, 1, 1, 1, 1, 1, 1, 1, 1, 1, 1, 1]\n",
      "Zeilensumme Runden Matrix: [1, 1, 1, 1, 1, 1, 1, 1, 1, 1, 1, 1, 1, 1, 1, 1]\n"
     ]
    }
   ],
   "source": [
    "print(\"Zeilensumme Schritte Matrix:\", [sum(M_S.row(i)) for i in range(16)])\n",
    "print(\"Zeilensumme Runden Matrix:\",[sum(M_R.row(i)) for i in range(16)])"
   ]
  },
  {
   "cell_type": "markdown",
   "metadata": {},
   "source": [
    "### Löschen der letzten Spalte\n",
    "Achtung findet inplace statt!"
   ]
  },
  {
   "cell_type": "code",
   "execution_count": 49,
   "metadata": {},
   "outputs": [],
   "source": [
    "M_S.col_del(-1)\n",
    "M_R.col_del(-1)\n"
   ]
  },
  {
   "cell_type": "markdown",
   "metadata": {},
   "source": [
    "### Löschen der letzten Zeile\n",
    "\n",
    "Achtung findet inplace statt!"
   ]
  },
  {
   "cell_type": "code",
   "execution_count": 50,
   "metadata": {},
   "outputs": [],
   "source": [
    "M_S.row_del(-1)\n",
    "M_R.row_del(-1)\n"
   ]
  },
  {
   "cell_type": "markdown",
   "metadata": {},
   "source": [
    "### Definition der 15x15 - Einheitsmatrix"
   ]
  },
  {
   "cell_type": "code",
   "execution_count": 51,
   "metadata": {},
   "outputs": [],
   "source": [
    "I = sy.eye(15)"
   ]
  },
  {
   "cell_type": "markdown",
   "metadata": {},
   "source": [
    "### Berechnung der Ergebnismatrizen"
   ]
  },
  {
   "cell_type": "code",
   "execution_count": 52,
   "metadata": {},
   "outputs": [],
   "source": [
    "E_S = (I-M_S)**-1\n",
    "E_R = (I-M_R)**-1"
   ]
  },
  {
   "cell_type": "markdown",
   "metadata": {},
   "source": [
    "### Berechnng der jeweils ersten Zeilensumme"
   ]
  },
  {
   "cell_type": "code",
   "execution_count": 53,
   "metadata": {},
   "outputs": [],
   "source": [
    "v=sy.Matrix([[1]+[0]*14])\n",
    "ZS_S= sum(v*E_S)\n",
    "ZS_R= sum(v*E_R)\n"
   ]
  },
  {
   "cell_type": "markdown",
   "metadata": {},
   "source": [
    "## Ausgabe der Ergebnisse"
   ]
  },
  {
   "cell_type": "code",
   "execution_count": 54,
   "metadata": {},
   "outputs": [
    {
     "name": "stdout",
     "output_type": "stream",
     "text": [
      "Schritte gerundet: 9.867846767445288\n",
      "Schritte exakt für Latex: \\frac{1280316980941868}{129746337890625}\n",
      "Schritte exakt:\n"
     ]
    },
    {
     "data": {
      "text/latex": [
       "$\\displaystyle \\frac{1280316980941868}{129746337890625}$"
      ],
      "text/plain": [
       "1280316980941868/129746337890625"
      ]
     },
     "execution_count": 54,
     "metadata": {},
     "output_type": "execute_result"
    }
   ],
   "source": [
    "print(\"Schritte gerundet:\", float(ZS_S))\n",
    "print(\"Schritte exakt für Latex:\", sy.latex(ZS_S))\n",
    "print(\"Schritte exakt:\")\n",
    "\n",
    "ZS_S\n",
    "\n",
    "\n"
   ]
  },
  {
   "cell_type": "code",
   "execution_count": 55,
   "metadata": {},
   "outputs": [
    {
     "name": "stdout",
     "output_type": "stream",
     "text": [
      "Runden gerundet: 8.391927856222578\n",
      "Runden exakt für Latex: \\frac{1088821907187203}{129746337890625}\n",
      "Runden exakt:\n"
     ]
    },
    {
     "data": {
      "text/latex": [
       "$\\displaystyle \\frac{1088821907187203}{129746337890625}$"
      ],
      "text/plain": [
       "1088821907187203/129746337890625"
      ]
     },
     "execution_count": 55,
     "metadata": {},
     "output_type": "execute_result"
    }
   ],
   "source": [
    "print(\"Runden gerundet:\", float(ZS_R))\n",
    "print(\"Runden exakt für Latex:\", sy.latex(ZS_R))\n",
    "print(\"Runden exakt:\")\n",
    "ZS_R"
   ]
  },
  {
   "cell_type": "code",
   "execution_count": 56,
   "metadata": {},
   "outputs": [
    {
     "name": "stdout",
     "output_type": "stream",
     "text": [
      "Schritte/Runden gerundet: 1.175873641493274\n",
      "Schritte/Runden exakt für Latex: \\frac{1280316980941868}{1088821907187203}\n",
      "Schritte/Runden exakt:\n"
     ]
    },
    {
     "data": {
      "text/latex": [
       "$\\displaystyle \\frac{1280316980941868}{1088821907187203}$"
      ],
      "text/plain": [
       "1280316980941868/1088821907187203"
      ]
     },
     "execution_count": 56,
     "metadata": {},
     "output_type": "execute_result"
    }
   ],
   "source": [
    "print(\"Schritte/Runden gerundet:\", float(ZS_S/ZS_R))\n",
    "print(\"Schritte/Runden exakt für Latex:\", sy.latex(ZS_S/ZS_R))\n",
    "print(\"Schritte/Runden exakt:\")\n",
    "ZS_S/ZS_R\n"
   ]
  }
 ],
 "metadata": {
  "interpreter": {
   "hash": "a757b233949dafe224bceb608d4709151f7d57937779228570c63acf7991e206"
  },
  "kernelspec": {
   "display_name": "Python 3.10.0 64-bit ('pyGameUr': venv)",
   "language": "python",
   "name": "python3"
  },
  "language_info": {
   "codemirror_mode": {
    "name": "ipython",
    "version": 3
   },
   "file_extension": ".py",
   "mimetype": "text/x-python",
   "name": "python",
   "nbconvert_exporter": "python",
   "pygments_lexer": "ipython3",
   "version": "3.10.0"
  },
  "orig_nbformat": 4
 },
 "nbformat": 4,
 "nbformat_minor": 2
}
