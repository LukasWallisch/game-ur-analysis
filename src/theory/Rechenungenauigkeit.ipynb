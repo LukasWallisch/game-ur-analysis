{
 "cells": [
  {
   "cell_type": "markdown",
   "metadata": {},
   "source": [
    "# Berechnung der Durchschnittlichen Spiellänge mittels Markov-Ketten\n",
    "### Import der benötigten Bibliotheken"
   ]
  },
  {
   "cell_type": "markdown",
   "metadata": {},
   "source": [
    "## Berechnen der Werte"
   ]
  },
  {
   "cell_type": "code",
   "execution_count": 72,
   "metadata": {},
   "outputs": [],
   "source": [
    "import matplotlib.pyplot as plt\n",
    "import numpy as np\n",
    "from matplotlib.colors import LogNorm,SymLogNorm\n",
    "\n",
    "import sympy as sy\n",
    "from datetime import datetime\n",
    "\n",
    "\n",
    "from matplotlib.colors import LinearSegmentedColormap\n",
    "\n",
    "# %config InlineBackend.figure_formats = ['svg']\n",
    "# mplstyle.use('fast')\n",
    "# mplstyle.use('default')\n",
    "# mpl.rcParams['figure.figsize'] = [20, 10]\n",
    "\n",
    "colors = [\"lightgreen\", \"yellow\", \"red\"]\n",
    "cmap = LinearSegmentedColormap.from_list(\"mycmap\", colors)\n"
   ]
  },
  {
   "cell_type": "markdown",
   "metadata": {},
   "source": [
    "### Definition der Wahrscheinlichkeiten der einzelnen Würfelwerte"
   ]
  },
  {
   "cell_type": "code",
   "execution_count": 73,
   "metadata": {},
   "outputs": [],
   "source": [
    "VierfachMünzwurf = {\n",
    "    \"dice\":1/16,\n",
    "    \"diceI\":1/4,\n",
    "    \"diceII\":3/8,\n",
    "    \"diceIII\":1/4,\n",
    "    \"diceIV\":1/16\n",
    "}\n",
    "\n",
    "VierfachMünzwurf_exakt = {\n",
    "    \"dice\": sy.nsimplify(1/16, tolerance=0.001, rational=True),\n",
    "    \"diceI\": sy.nsimplify(1/4, tolerance=0.001, rational=True),\n",
    "    \"diceII\": sy.nsimplify(3/8, tolerance=0.001, rational=True),\n",
    "    \"diceIII\": sy.nsimplify(1/4, tolerance=0.001, rational=True),\n",
    "    \"diceIV\": sy.nsimplify(1/16, tolerance=0.001, rational=True)\n",
    "}\n"
   ]
  },
  {
   "cell_type": "markdown",
   "metadata": {},
   "source": [
    "### Definition der Übergangsmatrizen"
   ]
  },
  {
   "cell_type": "code",
   "execution_count": 74,
   "metadata": {},
   "outputs": [],
   "source": [
    "\n",
    "def RundenMatrix(dice, diceI, diceII, diceIII, diceIV):\n",
    "    return np.asarray(\n",
    "        [[dice,  diceI,  diceII,  diceIII,  diceIV * dice,  diceIV * diceI,  diceIV * diceII,  diceIV * diceIII,  diceIV * diceIV * dice,  diceIV * diceIV * diceI,  diceIV * diceIV * diceII,  diceIV * diceIV * diceIII,  diceIV * diceIV * diceIV, 0, 0, 0],\n",
    "         [0,  dice,  diceI,  diceII,  diceIII * dice,  diceIV + diceIII * diceI,  diceIII * diceII,  diceIII * diceIII,  diceIII * diceIV *\n",
    "            dice,  diceIII * diceIV * diceI,  diceIII * diceIV * diceII,  diceIII * diceIV * diceIII,  diceIII * diceIV * diceIV, 0, 0, 0],\n",
    "            [0, 0,  dice,  diceI,  diceII * dice,  diceIII + diceII * diceI,  diceIV + diceII * diceII,  diceII * diceIII,  diceII * diceIV *\n",
    "                dice,  diceII * diceIV * diceI,  diceII * diceIV * diceII,  diceII * diceIV * diceIII,  diceII * diceIV * diceIV, 0, 0, 0],\n",
    "            [0, 0, 0,  dice,  diceI * dice,  diceII + diceI * diceI,  diceIII + diceI * diceII,  diceIV + diceI * diceIII,  diceI *\n",
    "                diceIV * dice,  diceI * diceIV * diceI,  diceI * diceIV * diceII,  diceI * diceIV * diceIII,  diceI * diceIV * diceIV, 0, 0, 0],\n",
    "            [0, 0, 0, 0,  dice,  diceI,  diceII,  diceIII,  diceIV * dice,  diceIV *\n",
    "                diceI,  diceIV * diceII,  diceIV * diceIII,  diceIV * diceIV, 0, 0, 0],\n",
    "            [0, 0, 0, 0, 0,  dice,  diceI,  diceII,  diceIII * dice,  diceIV + diceIII *\n",
    "                diceI,  diceIII * diceII,  diceIII * diceIII,  diceIII * diceIV, 0, 0, 0],\n",
    "            [0, 0, 0, 0, 0, 0,  dice,  diceI,  diceII * dice,  diceIII + diceII * diceI,\n",
    "                diceIV + diceII * diceII,  diceII * diceIII,  diceII * diceIV, 0, 0, 0],\n",
    "            [0, 0, 0, 0, 0, 0, 0,  dice,  diceI * dice,  diceII + diceI * diceI, diceIII +\n",
    "                diceI * diceII,  diceIV + diceI * diceIII,  diceI * diceIV, 0, 0, 0],\n",
    "            [0, 0, 0, 0, 0, 0, 0, 0,  dice,  diceI,\n",
    "                diceII,  diceIII,  diceIV, 0, 0, 0],\n",
    "            [0, 0, 0, 0, 0, 0, 0, 0, 0,  dice,  diceI,\n",
    "                diceII,  diceIII,  diceIV, 0, 0],\n",
    "            [0, 0, 0, 0, 0, 0, 0, 0, 0, 0,  dice,  diceI,  diceII,  diceIII,\n",
    "                diceIV*(dice + diceII + diceIII + diceIV),  diceIV * diceI],\n",
    "            [0, 0, 0, 0, 0, 0, 0, 0, 0, 0, 0,  dice,  diceI,  diceII,  diceIII *\n",
    "                (dice + diceII + diceIII + diceIV),  diceIV + (diceIII * diceI)],\n",
    "            [0, 0, 0, 0, 0, 0, 0, 0, 0, 0, 0, 0,  dice + diceIV,  diceI,  diceII *\n",
    "                (dice + diceII + diceIII + diceIV),  diceIII + (diceII * diceI)],\n",
    "            [0, 0, 0, 0, 0, 0, 0, 0, 0, 0, 0, 0, 0,  dice + diceIII + diceIV,\n",
    "                diceI*(dice + diceII + diceIII + diceIV),  diceII + (diceI * diceI)],\n",
    "            [0, 0, 0, 0, 0, 0, 0, 0, 0, 0, 0, 0, 0, 0,\n",
    "                dice + diceII + diceIII + diceIV,  diceI],\n",
    "            [0, 0, 0, 0, 0, 0, 0, 0, 0, 0, 0, 0, 0, 0, 0, 1]])\n",
    "\n",
    "\n",
    "def SchritteMatrix(dice, diceI, diceII, diceIII, diceIV):\n",
    "    return np.asarray([\n",
    "        [dice, diceI,  diceII,  diceIII,  diceIV, 0, 0, 0, 0, 0, 0, 0, 0, 0, 0, 0],\n",
    "        [0, dice, diceI,  diceII,  diceIII,  diceIV, 0, 0, 0, 0, 0, 0, 0, 0, 0, 0],\n",
    "        [0, 0, dice, diceI,  diceII,  diceIII,  diceIV, 0, 0, 0, 0, 0, 0, 0, 0, 0],\n",
    "        [0, 0, 0, dice,  diceI,  diceII,  diceIII, diceIV, 0, 0, 0, 0, 0, 0, 0, 0],\n",
    "        [0, 0, 0, 0, dice,  diceI,  diceII,  diceIII, diceIV, 0, 0, 0, 0, 0, 0, 0],\n",
    "        [0, 0, 0, 0, 0, dice,  diceI,  diceII,  diceIII, diceIV, 0, 0, 0, 0, 0, 0],\n",
    "        [0, 0, 0, 0, 0, 0, dice,  diceI,  diceII,  diceIII, diceIV, 0, 0, 0, 0, 0],\n",
    "        [0, 0, 0, 0, 0, 0, 0, dice,  diceI,  diceII,  diceIII, diceIV, 0, 0, 0, 0],\n",
    "        [0, 0, 0, 0, 0, 0, 0, 0, dice,  diceI,  diceII,  diceIII, diceIV, 0, 0, 0],\n",
    "        [0, 0, 0, 0, 0, 0, 0, 0, 0, dice,  diceI,  diceII, diceIII,  diceIV, 0, 0],\n",
    "        [0, 0, 0, 0, 0, 0, 0, 0, 0, 0, dice,  diceI,  diceII, diceIII,  diceIV, 0],\n",
    "        [0, 0, 0, 0, 0, 0, 0, 0, 0, 0, 0, dice,  diceI,  diceII, diceIII, diceIV],\n",
    "        [0, 0, 0, 0, 0, 0, 0, 0, 0, 0, 0, 0, dice +\n",
    "            diceIV,  diceI,  diceII,  diceIII],\n",
    "        [0, 0, 0, 0, 0, 0, 0, 0, 0, 0, 0, 0, 0,\n",
    "            dice+diceIII + diceIV,  diceI,  diceII],\n",
    "        [0, 0, 0, 0, 0, 0, 0, 0, 0, 0, 0, 0, 0, 0,\n",
    "            dice+diceII + diceIII + diceIV,  diceI],\n",
    "        [0, 0, 0, 0, 0, 0, 0, 0, 0, 0, 0, 0, 0, 0, 0,\n",
    "            dice + diceI + diceII + diceIII + diceIV],\n",
    "    ])\n",
    "\n",
    "\n",
    "def RundenMatrix_exakt(dice, diceI, diceII, diceIII, diceIV):\n",
    "    return sy.Matrix(\n",
    "        [[dice,  diceI,  diceII,  diceIII,  diceIV * dice,  diceIV * diceI,  diceIV * diceII,  diceIV * diceIII,  diceIV * diceIV * dice,  diceIV * diceIV * diceI,  diceIV * diceIV * diceII,  diceIV * diceIV * diceIII,  diceIV * diceIV * diceIV, 0, 0, 0],\n",
    "         [0,  dice,  diceI,  diceII,  diceIII * dice,  diceIV + diceIII * diceI,  diceIII * diceII,  diceIII * diceIII,  diceIII * diceIV *\n",
    "            dice,  diceIII * diceIV * diceI,  diceIII * diceIV * diceII,  diceIII * diceIV * diceIII,  diceIII * diceIV * diceIV, 0, 0, 0],\n",
    "            [0, 0,  dice,  diceI,  diceII * dice,  diceIII + diceII * diceI,  diceIV + diceII * diceII,  diceII * diceIII,  diceII * diceIV *\n",
    "                dice,  diceII * diceIV * diceI,  diceII * diceIV * diceII,  diceII * diceIV * diceIII,  diceII * diceIV * diceIV, 0, 0, 0],\n",
    "            [0, 0, 0,  dice,  diceI * dice,  diceII + diceI * diceI,  diceIII + diceI * diceII,  diceIV + diceI * diceIII,  diceI *\n",
    "                diceIV * dice,  diceI * diceIV * diceI,  diceI * diceIV * diceII,  diceI * diceIV * diceIII,  diceI * diceIV * diceIV, 0, 0, 0],\n",
    "            [0, 0, 0, 0,  dice,  diceI,  diceII,  diceIII,  diceIV * dice,  diceIV *\n",
    "                diceI,  diceIV * diceII,  diceIV * diceIII,  diceIV * diceIV, 0, 0, 0],\n",
    "            [0, 0, 0, 0, 0,  dice,  diceI,  diceII,  diceIII * dice,  diceIV + diceIII *\n",
    "                diceI,  diceIII * diceII,  diceIII * diceIII,  diceIII * diceIV, 0, 0, 0],\n",
    "            [0, 0, 0, 0, 0, 0,  dice,  diceI,  diceII * dice,  diceIII + diceII * diceI,\n",
    "                diceIV + diceII * diceII,  diceII * diceIII,  diceII * diceIV, 0, 0, 0],\n",
    "            [0, 0, 0, 0, 0, 0, 0,  dice,  diceI * dice,  diceII + diceI * diceI, diceIII +\n",
    "                diceI * diceII,  diceIV + diceI * diceIII,  diceI * diceIV, 0, 0, 0],\n",
    "            [0, 0, 0, 0, 0, 0, 0, 0,  dice,  diceI,\n",
    "                diceII,  diceIII,  diceIV, 0, 0, 0],\n",
    "            [0, 0, 0, 0, 0, 0, 0, 0, 0,  dice,  diceI,\n",
    "                diceII,  diceIII,  diceIV, 0, 0],\n",
    "            [0, 0, 0, 0, 0, 0, 0, 0, 0, 0,  dice,  diceI,  diceII,  diceIII,\n",
    "                diceIV*(dice + diceII + diceIII + diceIV),  diceIV * diceI],\n",
    "            [0, 0, 0, 0, 0, 0, 0, 0, 0, 0, 0,  dice,  diceI,  diceII,  diceIII *\n",
    "                (dice + diceII + diceIII + diceIV),  diceIV + (diceIII * diceI)],\n",
    "            [0, 0, 0, 0, 0, 0, 0, 0, 0, 0, 0, 0,  dice + diceIV,  diceI,  diceII *\n",
    "                (dice + diceII + diceIII + diceIV),  diceIII + (diceII * diceI)],\n",
    "            [0, 0, 0, 0, 0, 0, 0, 0, 0, 0, 0, 0, 0,  dice + diceIII + diceIV,\n",
    "                diceI*(dice + diceII + diceIII + diceIV),  diceII + (diceI * diceI)],\n",
    "            [0, 0, 0, 0, 0, 0, 0, 0, 0, 0, 0, 0, 0, 0,\n",
    "                dice + diceII + diceIII + diceIV,  diceI],\n",
    "            [0, 0, 0, 0, 0, 0, 0, 0, 0, 0, 0, 0, 0, 0, 0, 1]])\n",
    "\n",
    "\n",
    "def SchritteMatrix_exakt(dice, diceI, diceII, diceIII, diceIV):\n",
    "    return sy.Matrix([\n",
    "        [dice, diceI,  diceII,  diceIII,  diceIV, 0, 0, 0, 0, 0, 0, 0, 0, 0, 0, 0],\n",
    "        [0, dice, diceI,  diceII,  diceIII,  diceIV, 0, 0, 0, 0, 0, 0, 0, 0, 0, 0],\n",
    "        [0, 0, dice, diceI,  diceII,  diceIII,  diceIV, 0, 0, 0, 0, 0, 0, 0, 0, 0],\n",
    "        [0, 0, 0, dice,  diceI,  diceII,  diceIII, diceIV, 0, 0, 0, 0, 0, 0, 0, 0],\n",
    "        [0, 0, 0, 0, dice,  diceI,  diceII,  diceIII, diceIV, 0, 0, 0, 0, 0, 0, 0],\n",
    "        [0, 0, 0, 0, 0, dice,  diceI,  diceII,  diceIII, diceIV, 0, 0, 0, 0, 0, 0],\n",
    "        [0, 0, 0, 0, 0, 0, dice,  diceI,  diceII,  diceIII, diceIV, 0, 0, 0, 0, 0],\n",
    "        [0, 0, 0, 0, 0, 0, 0, dice,  diceI,  diceII,  diceIII, diceIV, 0, 0, 0, 0],\n",
    "        [0, 0, 0, 0, 0, 0, 0, 0, dice,  diceI,  diceII,  diceIII, diceIV, 0, 0, 0],\n",
    "        [0, 0, 0, 0, 0, 0, 0, 0, 0, dice,  diceI,  diceII, diceIII,  diceIV, 0, 0],\n",
    "        [0, 0, 0, 0, 0, 0, 0, 0, 0, 0, dice,  diceI,  diceII, diceIII,  diceIV, 0],\n",
    "        [0, 0, 0, 0, 0, 0, 0, 0, 0, 0, 0, dice,  diceI,  diceII, diceIII, diceIV],\n",
    "        [0, 0, 0, 0, 0, 0, 0, 0, 0, 0, 0, 0, dice +\n",
    "            diceIV,  diceI,  diceII,  diceIII],\n",
    "        [0, 0, 0, 0, 0, 0, 0, 0, 0, 0, 0, 0, 0,\n",
    "            dice+diceIII + diceIV,  diceI,  diceII],\n",
    "        [0, 0, 0, 0, 0, 0, 0, 0, 0, 0, 0, 0, 0, 0,\n",
    "            dice+diceII + diceIII + diceIV,  diceI],\n",
    "        [0, 0, 0, 0, 0, 0, 0, 0, 0, 0, 0, 0, 0, 0, 0,\n",
    "            dice + diceI + diceII + diceIII + diceIV],\n",
    "    ])\n"
   ]
  },
  {
   "cell_type": "markdown",
   "metadata": {},
   "source": [
    "### Festlegen welcher Würfel verwendet wird"
   ]
  },
  {
   "cell_type": "code",
   "execution_count": 75,
   "metadata": {},
   "outputs": [],
   "source": [
    "M_S = SchritteMatrix(**VierfachMünzwurf)\n",
    "M_R = RundenMatrix(**VierfachMünzwurf)\n",
    "M_S_e = SchritteMatrix_exakt(**VierfachMünzwurf_exakt)\n",
    "M_R_e = RundenMatrix_exakt(**VierfachMünzwurf_exakt)\n",
    "\n"
   ]
  },
  {
   "cell_type": "markdown",
   "metadata": {},
   "source": [
    "### Löschen der letzten Spalte und Zeile"
   ]
  },
  {
   "cell_type": "code",
   "execution_count": 76,
   "metadata": {},
   "outputs": [],
   "source": [
    "M_S_mod = np.delete(np.delete(M_S, -1, 0), -1, 1)\n",
    "M_R_mod = np.delete(np.delete(M_R, -1, 0), -1, 1)\n",
    "M_S_e.col_del(-1)\n",
    "M_R_e.col_del(-1)\n",
    "M_S_e.row_del(-1)\n",
    "M_R_e.row_del(-1)\n"
   ]
  },
  {
   "cell_type": "markdown",
   "metadata": {},
   "source": [
    "### Definition der 15x15 - Einheitsmatrix"
   ]
  },
  {
   "cell_type": "code",
   "execution_count": 77,
   "metadata": {},
   "outputs": [],
   "source": [
    "I = np.eye(15)\n",
    "I_e = sy.eye(15)\n"
   ]
  },
  {
   "cell_type": "markdown",
   "metadata": {},
   "source": [
    "### Berechnung der Ergebnismatrizen"
   ]
  },
  {
   "cell_type": "code",
   "execution_count": 78,
   "metadata": {},
   "outputs": [],
   "source": [
    "E_S = np.linalg.inv(I-M_S_mod)\n",
    "E_R = np.linalg.inv(I-M_R_mod)\n",
    "\n",
    "E_S_e = (I_e-M_S_e)**-1\n",
    "E_R_e = (I_e-M_R_e)**-1\n"
   ]
  },
  {
   "cell_type": "markdown",
   "metadata": {},
   "source": [
    "### Berechnng der jeweils ersten Zeilensumme"
   ]
  },
  {
   "cell_type": "code",
   "execution_count": 79,
   "metadata": {},
   "outputs": [],
   "source": [
    "ZS_S= sum(E_S[0])\n",
    "ZS_R = sum(E_R[0])\n",
    "\n",
    "v=sy.Matrix([[1]+[0]*14])\n",
    "ZS_S_e= sum(v*E_S_e)\n",
    "ZS_R_e= sum(v*E_R_e)"
   ]
  },
  {
   "cell_type": "markdown",
   "metadata": {},
   "source": [
    "## Vergleich mit den exakt berechneten Werten\n",
    "es fällt auf, dass einer der beiden Werte Abweicht"
   ]
  },
  {
   "cell_type": "code",
   "execution_count": 80,
   "metadata": {},
   "outputs": [
    {
     "name": "stdout",
     "output_type": "stream",
     "text": [
      "numpy Berechnung:  9.86784676744529\n",
      "exakte Berechnung:  1280316980941868/129746337890625\n",
      "exakte Berechnung als float:  9.867846767445288\n",
      "Abweichung:  58605836370217/36520347436056576000000000000\n",
      "Abweichung als float:  1.6047447651704265e-15\n"
     ]
    }
   ],
   "source": [
    "print(\"numpy Berechnung: \",ZS_S)\n",
    "print(\"exakte Berechnung: \", ZS_S_e)\n",
    "print(\"exakte Berechnung als float: \", float(ZS_S_e))\n",
    "A_S = sy.nsimplify(ZS_S, tolerance=1e-15, rational=True)-ZS_S_e\n",
    "print(\"Abweichung: \", A_S)\n",
    "print(\"Abweichung als float: \", float(A_S))\n",
    "\n"
   ]
  },
  {
   "cell_type": "code",
   "execution_count": 81,
   "metadata": {},
   "outputs": [
    {
     "name": "stdout",
     "output_type": "stream",
     "text": [
      "numpy Berechnung:  8.391927856222578\n",
      "exakte Berechnung:  1088821907187203/129746337890625\n",
      "exakte Berechnung auf 50 Stellen:  8.3919278562225787773242937597964778780711311321482\n",
      "Abweichung:  32489/26572050000000000000\n",
      "Abweichung auf 50 Stellen:  0.0000000000000012226757062402035221219288688678517464779721549523\n"
     ]
    }
   ],
   "source": [
    "print(\"numpy Berechnung: \", ZS_R)\n",
    "print(\"exakte Berechnung: \", ZS_R_e)\n",
    "print(\"exakte Berechnung auf 50 Stellen: \", sy.N(ZS_R_e,50))\n",
    "# print(\"exakte Berechnung latex: \", sy.latex(ZS_R_e))\n",
    "A_R = sy.nsimplify(ZS_R,full=True)-ZS_R_e\n",
    "print(\"Abweichung: \", A_R)\n",
    "print(\"Abweichung auf 50 Stellen: \", sy.N(A_R,50))\n",
    "# print(\"Abweichung latex: \", sy.latex(A_R))\n",
    "\n"
   ]
  },
  {
   "cell_type": "markdown",
   "metadata": {},
   "source": [
    "Definieren wir nun zwei verschiedene Methoden die jeweils eine Liste aus Vektoren ausgeben.\n",
    "Aus dem Vektor an Stelle n kann man ablesen mit welcher Wahrscheinlichkeit der Spielstein sich auf einem bestimmten Spielfeld befindet."
   ]
  },
  {
   "cell_type": "code",
   "execution_count": 137,
   "metadata": {},
   "outputs": [],
   "source": [
    "def berechne_step_by_step(M,RundenAnzahl):\n",
    "    v = np.zeros(16, np.longdouble)\n",
    "    v[0] = 1\n",
    "    output = [v]\n",
    "    for i in range(RundenAnzahl):\n",
    "        output.append(np.matmul(output[i], M))\n",
    "    return output\n",
    "\n",
    "def berechne_mit_Matrix_Potenz(M,RundenAnzahl):\n",
    "    v = np.zeros(16, np.longdouble)\n",
    "    v[0] = 1\n",
    "    output=[]\n",
    "    for i in range(RundenAnzahl+1):\n",
    "        output.append(np.matmul(v, np.linalg.matrix_power(M, i)))\n",
    "    return output\n",
    "\n",
    "\n",
    "def berechne_exakt_step_by_step(M, RundenAnzahl):\n",
    "    v = sy.Matrix([1]+[0]*15).T\n",
    "    output = [v]\n",
    "    for i in range(RundenAnzahl):\n",
    "        output.append(output[i]*(M))\n",
    "    return output\n",
    "\n",
    "\n",
    "def berechne_exakt_mit_Matrix_Potenz(M, RundenAnzahl):\n",
    "    v = sy.Matrix([1]+[0]*15).T\n",
    "    output = []\n",
    "    for i in range(RundenAnzahl):\n",
    "        output.append(v*(M**i))\n",
    "    return output\n",
    "\n",
    "\n",
    "\n"
   ]
  },
  {
   "cell_type": "markdown",
   "metadata": {},
   "source": [
    "Lassen wir nun mit diesen Methoden jeweils die ersten 50 Runden berechnen"
   ]
  },
  {
   "cell_type": "code",
   "execution_count": 147,
   "metadata": {},
   "outputs": [
    {
     "name": "stdout",
     "output_type": "stream",
     "text": [
      "Rechenzeit berechne_step_by_step:  0:00:00\n",
      "Rechenzeit berechne_mit_Matrix_Potenz:  0:00:00.000958\n",
      "Rechenzeit berechne_exakt_step_by_step:  0:00:00.026006\n",
      "Rechenzeit berechne_exakt_mit_Matrix_Potenz:  0:00:01.386313\n"
     ]
    }
   ],
   "source": [
    "runden = 50\n",
    "d0 = datetime.now()\n",
    "datenreihe_sbs = berechne_step_by_step(M_R,runden)\n",
    "d1 = datetime.now()\n",
    "datenreihe_mp = berechne_mit_Matrix_Potenz(M_R,runden)\n",
    "d2 = datetime.now()\n",
    "datenreihe_exakt = berechne_exakt_step_by_step(\n",
    "    RundenMatrix_exakt(**VierfachMünzwurf_exakt), runden)\n",
    "d3 = datetime.now()\n",
    "datenreihe_exakt_mp = berechne_exakt_mit_Matrix_Potenz(\n",
    "    RundenMatrix_exakt(**VierfachMünzwurf_exakt), runden)\n",
    "d4 = datetime.now()\n",
    "\n",
    "print(\"Rechenzeit berechne_step_by_step: \",d1-d0)\n",
    "print(\"Rechenzeit berechne_mit_Matrix_Potenz: \",d2-d1)\n",
    "print(\"Rechenzeit berechne_exakt_step_by_step: \", d3-d2)\n",
    "print(\"Rechenzeit berechne_exakt_mit_Matrix_Potenz: \", d4-d3)\n",
    "\n"
   ]
  },
  {
   "cell_type": "markdown",
   "metadata": {},
   "source": [
    "## Plotten der Werte"
   ]
  },
  {
   "cell_type": "markdown",
   "metadata": {},
   "source": [
    "Plotten wir die drei berechneten werte Fällt erst mal nicht all zu viel auf"
   ]
  },
  {
   "cell_type": "code",
   "execution_count": 139,
   "metadata": {},
   "outputs": [
    {
     "data": {
      "image/png": "[encoded data removed]",
      "text/plain": [
       "<Figure size 1800x720 with 4 Axes>"
      ]
     },
     "metadata": {
      "needs_background": "light"
     },
     "output_type": "display_data"
    }
   ],
   "source": [
    "fig, ax = plt.subplots(3, 1, figsize=(25,10),layout=\"constrained\")\n",
    "for i, data in enumerate([datenreihe_sbs, datenreihe_mp, np.array(datenreihe_exakt).astype(np.float64).reshape((51, 16))]):\n",
    "    data = np.array(data).T\n",
    "    im0 = ax[i].imshow(data, origin=\"lower\", cmap=plt.get_cmap(\n",
    "        \"plasma\"), interpolation='none', norm=LogNorm(vmin=1e-35, vmax=1,clip=True))\n",
    "\n",
    "\n",
    "fig.colorbar(im0, ax=ax, pad=.01, extend=\"min\",label=\"Wahrscheinlichkeit,dass ein Stein auf dem Feld ist\")\n",
    "\n",
    "for i, name in enumerate([\"Step by Step\", \"Matrix Potenz\",\"exakt\"]):\n",
    "    ax[i].set_title(name)\n",
    "    ax[i].set_yticks([0]+list(range(1, 15))+[15],\n",
    "                     [\"Start\"]+list(range(1, 15))+[\"Ende\"])\n",
    "    ax[i].set_xlabel(\"Runden\")\n",
    "    ax[i].set_ylabel(\"Spielfeld\")\n",
    "    ax[i].set_ylim(-.5, 15.5)\n",
    "\n"
   ]
  },
  {
   "cell_type": "markdown",
   "metadata": {},
   "source": [
    "Berechnung der Differenzen"
   ]
  },
  {
   "cell_type": "code",
   "execution_count": 166,
   "metadata": {},
   "outputs": [],
   "source": [
    "datenreihe_diff_sbs = np.asarray([np.asarray(sy.Matrix(datenreihe_sbs[i]).T - datenreihe_exakt[i])[0]\n",
    "                                 for i in range(len(datenreihe_exakt))], dtype=np.float64)\n",
    "datenreihe_diff_mp = np.asarray([np.asarray(sy.Matrix(datenreihe_mp[i]).T - datenreihe_exakt[i])[0]\n",
    "                                 for i in range(len(datenreihe_exakt))], dtype=np.float64)\n",
    "\n"
   ]
  },
  {
   "cell_type": "markdown",
   "metadata": {},
   "source": [
    "Plotten wir nun die Differenzen ist deutlich zu sehen wie sich bereits in Runde 13 eine Ungenauigkeit einschleicht"
   ]
  },
  {
   "cell_type": "code",
   "execution_count": 168,
   "metadata": {},
   "outputs": [
    {
     "data": {
      "image/png": "[encoded data removed]",
      "text/plain": [
       "<Figure size 1800x576 with 3 Axes>"
      ]
     },
     "metadata": {
      "needs_background": "light"
     },
     "output_type": "display_data"
    }
   ],
   "source": [
    "fig, ax = plt.subplots(2, 1, figsize=(25, 8), layout=\"constrained\")\n",
    "\n",
    "\n",
    "for i, data in enumerate([datenreihe_diff_sbs, datenreihe_diff_mp]):\n",
    "    data = np.array(data).T\n",
    "    im1 = ax[i].imshow(data, origin=\"lower\", interpolation='none', cmap=plt.get_cmap(\n",
    "        \"RdBu_r\"), norm=SymLogNorm(linthresh=1e-35, linscale=10e-2,\n",
    "                                   vmin=-1.0, vmax=1.0, base=10))\n",
    "                        \n",
    "\n",
    "tick_locations = ([-(10**(-x*5)) for x in range(7)]\n",
    "                  + [0.0]\n",
    "                  + [(10**(-x*5)) for x in range(6,-1,-1)])\n",
    "fig.colorbar(im1, ax=ax, pad=.01, extend=\"both\",\n",
    "             format=\"%.1e\", label=\"Berechnungsfehler\", ticks=tick_locations)\n",
    "\n",
    "for i, name in enumerate([\"Differenz: Step by Step - exakt\", \"Differenz: Matrix Potenz - exakt\"]):\n",
    "    ax[i].set_title(name)\n",
    "    ax[i].set_yticks([0]+list(range(1, 15))+[15],\n",
    "                     [\"Start\"]+list(range(1, 15))+[\"Ende\"])\n",
    "    ax[i].set_xlabel(\"Runden\")\n",
    "    ax[i].set_ylabel(\"Spielfeld\")\n",
    "    ax[i].set_ylim(-.5, 15.5)\n",
    "\n"
   ]
  },
  {
   "cell_type": "code",
   "execution_count": 169,
   "metadata": {},
   "outputs": [
    {
     "name": "stdout",
     "output_type": "stream",
     "text": [
      "Rechenzeit step by step:  0:00:00.001001\n",
      "Rechenzeit Matrix Potenz:  0:00:00.015002\n",
      "Rechenzeit exakt:  0:00:00.313071\n",
      "Rechenzeit exakt Matrix Potenz:  0:00:32.466932\n"
     ]
    }
   ],
   "source": [
    "runden = 500\n",
    "d0 = datetime.now()\n",
    "datenreihe_sbs = berechne_step_by_step(M_R, runden)\n",
    "d1 = datetime.now()\n",
    "datenreihe_mp = berechne_mit_Matrix_Potenz(M_R, runden)\n",
    "d2 = datetime.now()\n",
    "datenreihe_exakt = berechne_exakt_step_by_step(\n",
    "    RundenMatrix_exakt(**VierfachMünzwurf_exakt), runden)\n",
    "d3 = datetime.now()\n",
    "datenreihe_exakt_mp = berechne_exakt_mit_Matrix_Potenz(\n",
    "    RundenMatrix_exakt(**VierfachMünzwurf_exakt), runden)\n",
    "d4 = datetime.now()\n",
    "\n",
    "print(\"Rechenzeit step by step: \", d1-d0)\n",
    "print(\"Rechenzeit Matrix Potenz: \", d2-d1)\n",
    "print(\"Rechenzeit exakt: \", d3-d2)\n",
    "print(\"Rechenzeit exakt Matrix Potenz: \", d4-d3)\n"
   ]
  },
  {
   "cell_type": "markdown",
   "metadata": {},
   "source": [
    "Die Erklärung für das Problem"
   ]
  },
  {
   "cell_type": "code",
   "execution_count": 172,
   "metadata": {},
   "outputs": [
    {
     "data": {
      "text/plain": [
       "finfo(resolution=1e-15, min=-1.7976931348623157e+308, max=1.7976931348623157e+308, dtype=float64)"
      ]
     },
     "execution_count": 172,
     "metadata": {},
     "output_type": "execute_result"
    }
   ],
   "source": [
    "np.finfo(float)\n"
   ]
  }
 ],
 "metadata": {
  "interpreter": {
   "hash": "a757b233949dafe224bceb608d4709151f7d57937779228570c63acf7991e206"
  },
  "kernelspec": {
   "display_name": "Python 3.10.0 64-bit ('pyGameUr': venv)",
   "language": "python",
   "name": "python3"
  },
  "language_info": {
   "codemirror_mode": {
    "name": "ipython",
    "version": 3
   },
   "file_extension": ".py",
   "mimetype": "text/x-python",
   "name": "python",
   "nbconvert_exporter": "python",
   "pygments_lexer": "ipython3",
   "version": "3.10.0"
  },
  "orig_nbformat": 4
 },
 "nbformat": 4,
 "nbformat_minor": 2
}
