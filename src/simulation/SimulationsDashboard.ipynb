{
 "cells": [
  {
   "cell_type": "markdown",
   "metadata": {},
   "source": [
    "# Simulations Dashboard\n",
    "\n",
    "Die Zeitangaben geben an wie lange eine Simulation ungefähr mit einem AMD Ryzen 5 2600 dauern. Von den 12 verfügbaren Kernen werden dazu nur 10 verwendet um den Rechner nicht ganz lahmzulegen."
   ]
  },
  {
   "cell_type": "markdown",
   "metadata": {},
   "source": [
    "import benötigter Bibliotheken"
   ]
  },
  {
   "cell_type": "code",
   "execution_count": 1,
   "metadata": {},
   "outputs": [],
   "source": [
    "from datetime import datetime\n",
    "\n",
    "from codeGameSimulation.GameUr import Player, Dice, GameSettings\n",
    "import codeGameSimulation.Strategies as S\n",
    "import codeGameSimulation.Multirun as Multirun\n",
    "from os import path\n"
   ]
  },
  {
   "cell_type": "markdown",
   "metadata": {},
   "source": [
    "## Konfiguration"
   ]
  },
  {
   "cell_type": "markdown",
   "metadata": {},
   "source": [
    "Pfad unter dem die Datenbanken gespeichert werden sollen."
   ]
  },
  {
   "cell_type": "code",
   "execution_count": 2,
   "metadata": {},
   "outputs": [],
   "source": [
    "db_dir = \"D:/Uni/BA/data/\""
   ]
  },
  {
   "cell_type": "markdown",
   "metadata": {},
   "source": [
    "Wähle aus welche Datensätze neu berechnet werden sollen"
   ]
  },
  {
   "cell_type": "code",
   "execution_count": 3,
   "metadata": {},
   "outputs": [],
   "source": [
    "baseline_1P = False # Baseline mit einem Spieler\n",
    "baseline_1P_noDR = False  # Baseline mit einem Spieler ohne Doppelwürfelfelder\n",
    "not_exact_1P = False  # Ziel muss nicht exakt getroffen werden\n",
    "baseline_2P = False  # Baseline mit zwei Spielern\n",
    "strategy_move_last = True  #\n",
    "strategy_move_first = True  #\n",
    "strategy_score = True  #\n",
    "strategy_score_DR = True  #\n",
    "strategy_score_TO = True  #\n",
    "strategy_score_SF = True  # \n",
    "test = False  # Testlauf\n"
   ]
  },
  {
   "cell_type": "markdown",
   "metadata": {},
   "source": [
    "## Code"
   ]
  },
  {
   "cell_type": "markdown",
   "metadata": {},
   "source": [
    "### Baseline, Standardeinstellungen auf einem Standardspielbrett ein Spieler\n",
    "mit 1,2,3,4,5,6 und 7 Spielsteinen\n",
    "\n",
    "Anzahl der Wiederholungen so angepasst, dass für jede Spielsteinanzahl genau 10.500.000 Spielsteine über das Spielbrett bewegt werden müssen.\n",
    "\n",
    "Generierter Datensatz ~ 14,8 GB\n",
    "Laufzeit ca 1:50h"
   ]
  },
  {
   "cell_type": "code",
   "execution_count": 4,
   "metadata": {},
   "outputs": [
    {
     "name": "stdout",
     "output_type": "stream",
     "text": [
      "Berechnung übersprungen\n"
     ]
    }
   ],
   "source": [
    "db_filename = \"gameHistories_baseline_one\"\n",
    "equalSettings = [Dice.MultiD2Dice(4), 4, 8, 2, [8], [4, 8, 14]]\n",
    "gs = [*[GameSettings([Player(1, 1, S.RandomStrategy())], *equalSettings)]*(420//1),\n",
    "      *[GameSettings([Player(1, 2, S.RandomStrategy())], *equalSettings)]*(420//2),\n",
    "      *[GameSettings([Player(1, 3, S.RandomStrategy())], *equalSettings)]*(420//3),\n",
    "      *[GameSettings([Player(1, 4, S.RandomStrategy())], *equalSettings)]*(420//4),\n",
    "      *[GameSettings([Player(1, 5, S.RandomStrategy())], *equalSettings)]*(420//5),\n",
    "      *[GameSettings([Player(1, 6, S.RandomStrategy())], *equalSettings)]*(420//6),\n",
    "      *[GameSettings([Player(1, 7, S.RandomStrategy())], *equalSettings)]*(420//7)]\n",
    "runs = 25000\n",
    "\n",
    "if baseline_1P:\n",
    "      delta0 = datetime.now()\n",
    "      cf = Multirun.multirunDBNoStoneHistory(runs, 10, 10, gs, db_dir, db_filename)\n",
    "      delta1 = datetime.now()\n",
    "\n",
    "      print(\"{} Abschnitte nach insgesamt {} beendet\".format(cf, delta1-delta0))\n",
    "else:\n",
    "      print(\"Berechnung übersprungen\")\n"
   ]
  },
  {
   "cell_type": "markdown",
   "metadata": {},
   "source": [
    "### keine Doppelwürfelfelder auf einem Standardspielbrett ein Spieler\n",
    "mit 1,2,3,4,5,6 und 7 Spielsteinen\n",
    "\n",
    "Anzahl der Wiederholungen so angepasst, dass für jede Spielsteinanzahl genau 10.500.000 Spielsteine über das Spielbrett bewegt werden müssen.\n",
    "\n",
    "Generierter Datensatz ~15,6GB\n",
    "Laufzeit ~ 1:45 h\n"
   ]
  },
  {
   "cell_type": "code",
   "execution_count": 5,
   "metadata": {},
   "outputs": [
    {
     "name": "stdout",
     "output_type": "stream",
     "text": [
      "Berechnung übersprungen\n"
     ]
    }
   ],
   "source": [
    "db_filename = \"gameHistories_noDR\"\n",
    "equalSettings = [Dice.MultiD2Dice(4), 4, 8, 2, [8], []]\n",
    "gs = [*[GameSettings([Player(1, 1, S.RandomStrategy())], *equalSettings)]*(420//1),\n",
    "      *[GameSettings([Player(1, 2, S.RandomStrategy())],\n",
    "                     *equalSettings)]*(420//2),\n",
    "      *[GameSettings([Player(1, 3, S.RandomStrategy())],\n",
    "                     *equalSettings)]*(420//3),\n",
    "      *[GameSettings([Player(1, 4, S.RandomStrategy())],\n",
    "                     *equalSettings)]*(420//4),\n",
    "      *[GameSettings([Player(1, 5, S.RandomStrategy())],\n",
    "                     *equalSettings)]*(420//5),\n",
    "      *[GameSettings([Player(1, 6, S.RandomStrategy())],\n",
    "                     *equalSettings)]*(420//6),\n",
    "      *[GameSettings([Player(1, 7, S.RandomStrategy())], *equalSettings)]*(420//7)]\n",
    "runs = 25000\n",
    "if baseline_1P_noDR:\n",
    "      delta0 = datetime.now()\n",
    "      cf = Multirun.multirunDBNoStoneHistory(runs, 10, 10, gs, db_dir, db_filename)\n",
    "      delta1 = datetime.now()\n",
    "\n",
    "      print(\"{} Abschnitte nach insgesamt {} beendet\".format(cf, delta1-delta0))\n",
    "else:\n",
    "    print(\"Berechnung übersprungen\")\n"
   ]
  },
  {
   "cell_type": "markdown",
   "metadata": {},
   "source": [
    "### Das Ziel muss nicht exakt getroffen werden auf einem Standardspielbrett ein Spieler\n",
    "mit 1,2,3,4,5,6 und 7 Spielsteinen\n",
    "\n",
    "Anzahl der Wiederholungen so angepasst, dass für jede Spielsteinanzahl genau 10.500.000 Spielsteine über das Spielbrett bewegt werden müssen.\n",
    "\n",
    "Generierter Datensatz ~13,7GB\n",
    "Laufzeit ~ 1:40 h"
   ]
  },
  {
   "cell_type": "code",
   "execution_count": 6,
   "metadata": {},
   "outputs": [
    {
     "name": "stdout",
     "output_type": "stream",
     "text": [
      "Berechnung übersprungen\n"
     ]
    }
   ],
   "source": [
    "db_filename = \"gameHistories_not_exact\"\n",
    "equalSettings = [Dice.MultiD2Dice(4), 4, 8, 2, [8], [4, 8, 14],False,False]\n",
    "gs = [*[GameSettings([Player(1, 1, S.RandomStrategy())], *equalSettings)]*(420//1),\n",
    "      *[GameSettings([Player(1, 2, S.RandomStrategy())], *equalSettings)]*(420//2),\n",
    "      *[GameSettings([Player(1, 3, S.RandomStrategy())], *equalSettings)]*(420//3),\n",
    "      *[GameSettings([Player(1, 4, S.RandomStrategy())], *equalSettings)]*(420//4),\n",
    "      *[GameSettings([Player(1, 5, S.RandomStrategy())], *equalSettings)]*(420//5),\n",
    "      *[GameSettings([Player(1, 6, S.RandomStrategy())], *equalSettings)]*(420//6),\n",
    "      *[GameSettings([Player(1, 7, S.RandomStrategy())], *equalSettings)]*(420//7)]\n",
    "runs = 25000\n",
    "\n",
    "if not_exact_1P:\n",
    "    delta0 = datetime.now()\n",
    "    cf = Multirun.multirunDBNoStoneHistory(\n",
    "        runs, 10, 10, gs, db_dir, db_filename)\n",
    "    delta1 = datetime.now()\n",
    "\n",
    "    print(\"{} Abschnitte nach insgesamt {} beendet\".format(cf, delta1-delta0))\n",
    "else:\n",
    "    print(\"Berechnung übersprungen\")\n"
   ]
  },
  {
   "cell_type": "markdown",
   "metadata": {},
   "source": [
    "### Baseline, Standardeinstellungen auf einem Standardspielbrett zwei Spieler\n",
    "7 Spielsteinen\n",
    "\n",
    "Generierter Datensatz ~ 17,3 GB\n",
    "Laufzeit ca. 2:00 h"
   ]
  },
  {
   "cell_type": "code",
   "execution_count": 7,
   "metadata": {},
   "outputs": [
    {
     "name": "stdout",
     "output_type": "stream",
     "text": [
      "chunks: 14985\n",
      "gamePerChunk: 10\n",
      "gamesettings: 10\n",
      "D:/Uni/BA/data/gameHistories_baseline_two_players.db\n",
      "for gs 1/10\n"
     ]
    },
    {
     "name": "stderr",
     "output_type": "stream",
     "text": [
      "100%|██████████| 149850/149850 [11:23<00:00, 219.31games/s]\n"
     ]
    },
    {
     "name": "stdout",
     "output_type": "stream",
     "text": [
      "for gs 2/10\n"
     ]
    },
    {
     "name": "stderr",
     "output_type": "stream",
     "text": [
      "100%|██████████| 149850/149850 [11:20<00:00, 220.25games/s]\n"
     ]
    },
    {
     "name": "stdout",
     "output_type": "stream",
     "text": [
      "for gs 3/10\n"
     ]
    },
    {
     "name": "stderr",
     "output_type": "stream",
     "text": [
      "100%|██████████| 149850/149850 [11:10<00:00, 223.37games/s]\n"
     ]
    },
    {
     "name": "stdout",
     "output_type": "stream",
     "text": [
      "for gs 4/10\n"
     ]
    },
    {
     "name": "stderr",
     "output_type": "stream",
     "text": [
      "100%|██████████| 149850/149850 [10:49<00:00, 230.89games/s]\n"
     ]
    },
    {
     "name": "stdout",
     "output_type": "stream",
     "text": [
      "for gs 5/10\n"
     ]
    },
    {
     "name": "stderr",
     "output_type": "stream",
     "text": [
      "100%|██████████| 149850/149850 [11:04<00:00, 225.40games/s]\n"
     ]
    },
    {
     "name": "stdout",
     "output_type": "stream",
     "text": [
      "for gs 6/10\n"
     ]
    },
    {
     "name": "stderr",
     "output_type": "stream",
     "text": [
      "100%|██████████| 149850/149850 [10:45<00:00, 232.18games/s]\n"
     ]
    },
    {
     "name": "stdout",
     "output_type": "stream",
     "text": [
      "for gs 7/10\n"
     ]
    },
    {
     "name": "stderr",
     "output_type": "stream",
     "text": [
      "100%|██████████| 149850/149850 [10:49<00:00, 230.88games/s]\n"
     ]
    },
    {
     "name": "stdout",
     "output_type": "stream",
     "text": [
      "for gs 8/10\n"
     ]
    },
    {
     "name": "stderr",
     "output_type": "stream",
     "text": [
      "100%|██████████| 149850/149850 [11:14<00:00, 222.31games/s]\n"
     ]
    },
    {
     "name": "stdout",
     "output_type": "stream",
     "text": [
      "for gs 9/10\n"
     ]
    },
    {
     "name": "stderr",
     "output_type": "stream",
     "text": [
      "100%|██████████| 149850/149850 [11:48<00:00, 211.36games/s]\n"
     ]
    },
    {
     "name": "stdout",
     "output_type": "stream",
     "text": [
      "for gs 10/10\n"
     ]
    },
    {
     "name": "stderr",
     "output_type": "stream",
     "text": [
      "100%|██████████| 149850/149850 [11:05<00:00, 225.24games/s]\n"
     ]
    },
    {
     "name": "stdout",
     "output_type": "stream",
     "text": [
      "10 Abschnitte nach insgesamt 2:01:16.369807 beendet\n"
     ]
    }
   ],
   "source": [
    "db_filename = \"gameHistories_baseline_two_players\"\n",
    "equalSettings = [Dice.MultiD2Dice(4), 4, 8, 2, [8], [4, 8, 14]]\n",
    "gs = [*[GameSettings([Player(0, 7, S.RandomStrategy()),\n",
    "                     Player(1, 7, S.RandomStrategy())], *equalSettings)]*10]\n",
    "if baseline_2P:\n",
    "    # runs = 150000\n",
    "    runs = 150000-150\n",
    "    delta0 = datetime.now()\n",
    "    cf = Multirun.multirunDB(runs, 10, 10, gs, db_dir, db_filename)\n",
    "    delta1 = datetime.now()\n",
    "\n",
    "    print(\"{} Abschnitte nach insgesamt {} beendet\".format(cf, delta1-delta0))\n",
    "else:\n",
    "    print(\"Berechnung übersprungen\")\n"
   ]
  },
  {
   "cell_type": "markdown",
   "metadata": {},
   "source": [
    "## MoveLast Strategie"
   ]
  },
  {
   "cell_type": "code",
   "execution_count": null,
   "metadata": {},
   "outputs": [],
   "source": [
    "db_filename = \"gameHistories_strategy_move_last\"\n",
    "equalSettings = [Dice.MultiD2Dice(4), 4, 8, 2, [8], [4, 8, 14]]\n",
    "gs = [\n",
    "    *[GameSettings([Player(0, 7, S.RandomStrategy()), Player(1, 7, S.MoveLastStrategy())], *equalSettings)]*10\n",
    "    ]\n",
    "if strategy_move_last:\n",
    "    # runs = 150000\n",
    "    runs = 100000\n",
    "    delta0 = datetime.now()\n",
    "    cf = Multirun.multirunDB(runs, 10, 10, gs, db_dir, db_filename)\n",
    "    delta1 = datetime.now()\n",
    "\n",
    "    print(\"{} Abschnitte nach insgesamt {} beendet\".format(cf, delta1-delta0))\n",
    "else:\n",
    "    print(\"Berechnung übersprungen\")\n"
   ]
  },
  {
   "cell_type": "markdown",
   "metadata": {},
   "source": [
    "## MoveFirstStrategy\n"
   ]
  },
  {
   "cell_type": "code",
   "execution_count": null,
   "metadata": {},
   "outputs": [],
   "source": [
    "db_filename = \"gameHistories_strategy_move_first\"\n",
    "equalSettings = [Dice.MultiD2Dice(4), 4, 8, 2, [8], [4, 8, 14]]\n",
    "gs = [\n",
    "    *[GameSettings([Player(0, 7, S.RandomStrategy()), Player(1, 7, S.MoveFirstStrategy())], *equalSettings)]*10\n",
    "]\n",
    "if strategy_move_first:\n",
    "    # runs = 150000\n",
    "    runs = 100000\n",
    "    delta0 = datetime.now()\n",
    "    cf = Multirun.multirunDB(runs, 10, 10, gs, db_dir, db_filename)\n",
    "    delta1 = datetime.now()\n",
    "\n",
    "    print(\"{} Abschnitte nach insgesamt {} beendet\".format(cf, delta1-delta0))\n",
    "else:\n",
    "    print(\"Berechnung übersprungen\")\n"
   ]
  },
  {
   "cell_type": "markdown",
   "metadata": {},
   "source": [
    "\n",
    "## ScoreStrategy\n"
   ]
  },
  {
   "cell_type": "code",
   "execution_count": null,
   "metadata": {},
   "outputs": [],
   "source": [
    "db_filename = \"gameHistories_strategy_score\"\n",
    "equalSettings = [Dice.MultiD2Dice(4), 4, 8, 2, [8], [4, 8, 14]]\n",
    "gs = [\n",
    "    *[GameSettings([Player(0, 7, S.RandomStrategy()), Player(1, 7, S.ScoreStrategy())], *equalSettings)]*10\n",
    "]\n",
    "if strategy_score:\n",
    "    # runs = 150000\n",
    "    runs = 100000\n",
    "    delta0 = datetime.now()\n",
    "    cf = Multirun.multirunDB(runs, 10, 10, gs, db_dir, db_filename)\n",
    "    delta1 = datetime.now()\n",
    "\n",
    "    print(\"{} Abschnitte nach insgesamt {} beendet\".format(cf, delta1-delta0))\n",
    "else:\n",
    "    print(\"Berechnung übersprungen\")\n"
   ]
  },
  {
   "cell_type": "markdown",
   "metadata": {},
   "source": [
    "## ScoreDoubleRollStrategy\n"
   ]
  },
  {
   "cell_type": "code",
   "execution_count": null,
   "metadata": {},
   "outputs": [],
   "source": [
    "db_filename = \"gameHistories_strategy_score_DR\"\n",
    "equalSettings = [Dice.MultiD2Dice(4), 4, 8, 2, [8], [4, 8, 14]]\n",
    "gs = [\n",
    "    *[GameSettings([Player(0, 7, S.RandomStrategy()), Player(1, 7, S.ScoreDoubleRollStrategy())], *equalSettings)]*10\n",
    "]\n",
    "if strategy_score_DR:\n",
    "    # runs = 150000\n",
    "    runs = 100000\n",
    "    delta0 = datetime.now()\n",
    "    cf = Multirun.multirunDB(runs, 10, 10, gs, db_dir, db_filename)\n",
    "    delta1 = datetime.now()\n",
    "\n",
    "    print(\"{} Abschnitte nach insgesamt {} beendet\".format(cf, delta1-delta0))\n",
    "else:\n",
    "    print(\"Berechnung übersprungen\")\n"
   ]
  },
  {
   "cell_type": "markdown",
   "metadata": {},
   "source": [
    "## ScoreThrowOpponentStrategy\n"
   ]
  },
  {
   "cell_type": "code",
   "execution_count": null,
   "metadata": {},
   "outputs": [],
   "source": [
    "db_filename = \"gameHistories_strategy_score_TO\"\n",
    "equalSettings = [Dice.MultiD2Dice(4), 4, 8, 2, [8], [4, 8, 14]]\n",
    "gs = [\n",
    "    *[GameSettings([Player(0, 7, S.RandomStrategy()), Player(1, 7, S.ScoreThrowOpponentStrategy())], *equalSettings)]*10\n",
    "]\n",
    "if strategy_score_TO:\n",
    "    # runs = 150000\n",
    "    runs = 100000\n",
    "    delta0 = datetime.now()\n",
    "    cf = Multirun.multirunDB(runs, 10, 10, gs, db_dir, db_filename)\n",
    "    delta1 = datetime.now()\n",
    "\n",
    "    print(\"{} Abschnitte nach insgesamt {} beendet\".format(cf, delta1-delta0))\n",
    "else:\n",
    "    print(\"Berechnung übersprungen\")\n"
   ]
  },
  {
   "cell_type": "markdown",
   "metadata": {},
   "source": [
    "## ScoreSaveFieldStrategy"
   ]
  },
  {
   "cell_type": "code",
   "execution_count": null,
   "metadata": {},
   "outputs": [],
   "source": [
    "db_filename = \"gameHistories_strategy_score_SF\"\n",
    "equalSettings = [Dice.MultiD2Dice(4), 4, 8, 2, [8], [4, 8, 14]]\n",
    "gs = [\n",
    "    *[GameSettings([Player(0, 7, S.RandomStrategy()), Player(1, 7, S.ScoreSaveFieldStrategy())], *equalSettings)]*10\n",
    "]\n",
    "if strategy_score_SF:\n",
    "    # runs = 150000\n",
    "    runs = 100000\n",
    "    delta0 = datetime.now()\n",
    "    cf = Multirun.multirunDB(runs, 10, 10, gs, db_dir, db_filename)\n",
    "    delta1 = datetime.now()\n",
    "\n",
    "    print(\"{} Abschnitte nach insgesamt {} beendet\".format(cf, delta1-delta0))\n",
    "else:\n",
    "    print(\"Berechnung übersprungen\")\n"
   ]
  },
  {
   "cell_type": "markdown",
   "metadata": {},
   "source": [
    "## tmp"
   ]
  },
  {
   "cell_type": "code",
   "execution_count": 8,
   "metadata": {},
   "outputs": [
    {
     "ename": "NameError",
     "evalue": "name 'test' is not defined",
     "output_type": "error",
     "traceback": [
      "\u001b[1;31m---------------------------------------------------------------------------\u001b[0m",
      "\u001b[1;31mNameError\u001b[0m                                 Traceback (most recent call last)",
      "\u001b[1;32m~\\AppData\\Local\\Temp/ipykernel_23120/1472102984.py\u001b[0m in \u001b[0;36m<module>\u001b[1;34m\u001b[0m\n\u001b[0;32m      5\u001b[0m     \u001b[1;33m*\u001b[0m\u001b[1;33m[\u001b[0m\u001b[0mGameSettings\u001b[0m\u001b[1;33m(\u001b[0m\u001b[1;33m[\u001b[0m\u001b[0mPlayer\u001b[0m\u001b[1;33m(\u001b[0m\u001b[1;36m0\u001b[0m\u001b[1;33m,\u001b[0m \u001b[1;36m7\u001b[0m\u001b[1;33m,\u001b[0m \u001b[0mS\u001b[0m\u001b[1;33m.\u001b[0m\u001b[0mRandomStrategy\u001b[0m\u001b[1;33m(\u001b[0m\u001b[1;33m)\u001b[0m\u001b[1;33m)\u001b[0m\u001b[1;33m,\u001b[0m \u001b[0mPlayer\u001b[0m\u001b[1;33m(\u001b[0m\u001b[1;36m1\u001b[0m\u001b[1;33m,\u001b[0m \u001b[1;36m7\u001b[0m\u001b[1;33m,\u001b[0m \u001b[0mS\u001b[0m\u001b[1;33m.\u001b[0m\u001b[0mMoveFirstStrategy\u001b[0m\u001b[1;33m(\u001b[0m\u001b[1;33m)\u001b[0m\u001b[1;33m)\u001b[0m\u001b[1;33m]\u001b[0m\u001b[1;33m,\u001b[0m \u001b[1;33m*\u001b[0m\u001b[0mequalSettings\u001b[0m\u001b[1;33m)\u001b[0m\u001b[1;33m]\u001b[0m\u001b[1;33m,\u001b[0m\u001b[1;33m\u001b[0m\u001b[1;33m\u001b[0m\u001b[0m\n\u001b[0;32m      6\u001b[0m     ]\n\u001b[1;32m----> 7\u001b[1;33m \u001b[1;32mif\u001b[0m \u001b[0mtest\u001b[0m\u001b[1;33m:\u001b[0m\u001b[1;33m\u001b[0m\u001b[1;33m\u001b[0m\u001b[0m\n\u001b[0m\u001b[0;32m      8\u001b[0m     \u001b[0mruns\u001b[0m \u001b[1;33m=\u001b[0m \u001b[1;36m10\u001b[0m\u001b[1;33m\u001b[0m\u001b[1;33m\u001b[0m\u001b[0m\n\u001b[0;32m      9\u001b[0m     \u001b[0mdelta0\u001b[0m \u001b[1;33m=\u001b[0m \u001b[0mdatetime\u001b[0m\u001b[1;33m.\u001b[0m\u001b[0mnow\u001b[0m\u001b[1;33m(\u001b[0m\u001b[1;33m)\u001b[0m\u001b[1;33m\u001b[0m\u001b[1;33m\u001b[0m\u001b[0m\n",
      "\u001b[1;31mNameError\u001b[0m: name 'test' is not defined"
     ]
    }
   ],
   "source": [
    "db_filename = \"test\"\n",
    "equalSettings = [Dice.MultiD2Dice(4), 4, 8, 2, [8], [4, 8, 14]]\n",
    "gs = [\n",
    "    *[GameSettings([Player(0, 7, S.RandomStrategy()), Player(1, 7, S.RandomStrategy())], *equalSettings)],\n",
    "    *[GameSettings([Player(0, 7, S.RandomStrategy()), Player(1, 7, S.MoveFirstStrategy())], *equalSettings)],\n",
    "    ]\n",
    "if test:\n",
    "    runs = 10\n",
    "    delta0 = datetime.now()\n",
    "    cf = Multirun.multirunDBNoStoneHistory(\n",
    "        runs, 10, 10, gs, db_dir, db_filename)\n",
    "    delta1 = datetime.now()\n",
    "\n",
    "    print(\"{} Abschnitte nach insgesamt {} beendet\".format(cf, delta1-delta0))\n",
    "else:\n",
    "    print(\"Berechnung übersprungen\")\n"
   ]
  }
 ],
 "metadata": {
  "interpreter": {
   "hash": "a757b233949dafe224bceb608d4709151f7d57937779228570c63acf7991e206"
  },
  "kernelspec": {
   "display_name": "Python 3.10.0 64-bit ('pyGameUr': venv)",
   "language": "python",
   "name": "python3"
  },
  "language_info": {
   "codemirror_mode": {
    "name": "ipython",
    "version": 3
   },
   "file_extension": ".py",
   "mimetype": "text/x-python",
   "name": "python",
   "nbconvert_exporter": "python",
   "pygments_lexer": "ipython3",
   "version": "3.10.0"
  },
  "orig_nbformat": 4
 },
 "nbformat": 4,
 "nbformat_minor": 2
}
