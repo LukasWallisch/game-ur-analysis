{
 "cells": [
  {
   "cell_type": "code",
   "execution_count": 2,
   "metadata": {},
   "outputs": [],
   "source": [
    "import matplotlib as mpl\n",
    "import random\n",
    "import numpy as np"
   ]
  },
  {
   "cell_type": "code",
   "execution_count": 5,
   "metadata": {},
   "outputs": [],
   "source": [
    "move_dists=np.array(np.zeros(4))\n",
    "move_dist0=np.array(np.zeros(4))\n",
    "move_dist1=np.array(np.zeros(4))\n",
    "move_dist2=np.array(np.zeros(4))\n",
    "rounds = 1000000\n",
    "for i in range(rounds):\n",
    "                ch0 = random.choice([0,0,1,1])\n",
    "                ch1 = random.choice([0,0,1,1])\n",
    "                ch2 = random.choice([0,0,1,1])\n",
    "                move_dist = ch0 + ch1 + ch2\n",
    "                move_dists[move_dist] +=1\n",
    "                move_dist0[ch0]+=1\n",
    "                move_dist1[ch1]+=1\n",
    "                move_dist2[ch2]+=1\n",
    "move_dists = move_dists / rounds\n",
    "move_dist0 = move_dist0 / rounds\n",
    "move_dist1 = move_dist1 / rounds\n",
    "move_dist2 = move_dist2 / rounds"
   ]
  },
  {
   "cell_type": "code",
   "execution_count": 6,
   "metadata": {},
   "outputs": [
    {
     "data": {
      "text/plain": [
       "[1, 1, 1, 1, 1, 1, 1, 1, 1, 1]"
      ]
     },
     "execution_count": 6,
     "metadata": {},
     "output_type": "execute_result"
    }
   ],
   "source": [
    "[1]*10"
   ]
  }
 ],
 "metadata": {
  "interpreter": {
   "hash": "7bed8204c7a812459d5ee112ed12be574a8c9e75eabda9dd8fb37380f16d19b9"
  },
  "kernelspec": {
   "display_name": "Python 3.8.10 64-bit (windows store)",
   "name": "python3"
  },
  "language_info": {
   "codemirror_mode": {
    "name": "ipython",
    "version": 3
   },
   "file_extension": ".py",
   "mimetype": "text/x-python",
   "name": "python",
   "nbconvert_exporter": "python",
   "pygments_lexer": "ipython3",
   "version": "3.8.10"
  },
  "orig_nbformat": 4
 },
 "nbformat": 4,
 "nbformat_minor": 2
}
