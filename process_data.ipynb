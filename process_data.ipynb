{
 "cells": [
  {
   "cell_type": "code",
   "execution_count": 5,
   "metadata": {},
   "outputs": [],
   "source": [
    "import json\n",
    "from datetime import datetime\n"
   ]
  },
  {
   "cell_type": "code",
   "execution_count": 6,
   "metadata": {},
   "outputs": [
    {
     "name": "stdout",
     "output_type": "stream",
     "text": [
      "finished load after 0:00:26.684042\n",
      "finished load after 0:00:28.738507\n",
      "finished load after 0:00:30.470897\n"
     ]
    },
    {
     "data": {
      "text/plain": [
       "3"
      ]
     },
     "execution_count": 6,
     "metadata": {},
     "output_type": "execute_result"
    }
   ],
   "source": [
    "tmp = []\n",
    "id = 0\n",
    "for i in range(3):\n",
    "    delta0 = datetime.now()\n",
    "    with open(\"G:/Uni/BA/data/history_data_{:02d}_{:02d}.json\".format(id,i), \"r\") as f:\n",
    "        tmp.append(json.load(f))\n",
    "    delta1 = datetime.now()\n",
    "    print(\"finished load after\", delta1-delta0)\n",
    "len(tmp)"
   ]
  },
  {
   "cell_type": "code",
   "execution_count": 7,
   "metadata": {},
   "outputs": [
    {
     "data": {
      "text/plain": [
       "100000"
      ]
     },
     "execution_count": 7,
     "metadata": {},
     "output_type": "execute_result"
    }
   ],
   "source": [
    "len(tmp[0])\n",
    "# tmp[0][0]\n"
   ]
  }
 ],
 "metadata": {
  "interpreter": {
   "hash": "a757b233949dafe224bceb608d4709151f7d57937779228570c63acf7991e206"
  },
  "kernelspec": {
   "display_name": "Python 3.10.0 64-bit ('pyGameUr': venv)",
   "language": "python",
   "name": "python3"
  },
  "language_info": {
   "codemirror_mode": {
    "name": "ipython",
    "version": 3
   },
   "file_extension": ".py",
   "mimetype": "text/x-python",
   "name": "python",
   "nbconvert_exporter": "python",
   "pygments_lexer": "ipython3",
   "version": "3.10.0"
  },
  "orig_nbformat": 4
 },
 "nbformat": 4,
 "nbformat_minor": 2
}
